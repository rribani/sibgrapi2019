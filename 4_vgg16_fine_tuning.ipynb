{
 "cells": [
  {
   "cell_type": "markdown",
   "metadata": {
    "colab_type": "text",
    "id": "Rq0cLJjagt6u"
   },
   "source": [
    "# Experiment 4 - Train models fine-tuning the VGG16 convolutional layers, pre-trained in ImageNet\n",
    "\n",
    "In this experiment we train a VGG16-based model to perform classification using the Flowers Recognition dataset from Kaggle (https://www.kaggle.com/alxmamaev/flowers-recognition). But this time freezing *just some* of the convolutional layers from the VGG16 pre-trained using the ImageNet dataset.\n",
    "\n",
    "We'll perform the same steps as before to find the best performance as possible using this architecture, fine-tuning part of the VGG layers and training the fully-connected layers from zero.\n",
    "\n",
    "The results obtained here will be used later to compare with the future experiments."
   ]
  },
  {
   "cell_type": "code",
   "execution_count": null,
   "metadata": {
    "colab": {
     "base_uri": "https://localhost:8080/",
     "height": 34
    },
    "colab_type": "code",
    "id": "2bKf6hEe0Jsn",
    "outputId": "ebe745ed-eb9b-42e8-df7c-ed1cb6083b29"
   },
   "outputs": [],
   "source": [
    "%tensorflow_version 1.x\n",
    "import os\n",
    "import numpy as np\n",
    "import tensorflow as tf\n",
    "import random as rn\n",
    "import keras\n",
    "import cv2\n",
    "import matplotlib.pyplot as plt\n",
    "import seaborn as sns\n",
    "sns.set(color_codes=True)\n",
    "\n",
    "from os import walk\n",
    "from tqdm import *\n",
    "from keras.utils import to_categorical\n",
    "from keras.applications.imagenet_utils import preprocess_input\n",
    "from keras.applications import vgg16\n",
    "from keras.models import Model, Sequential\n",
    "from keras.layers import Flatten, Dense, GlobalAveragePooling2D, Reshape, Conv2D, Dropout, Activation, MaxPooling2D\n",
    "from keras import optimizers\n",
    "from keras.preprocessing.image import ImageDataGenerator\n",
    "from sklearn.metrics import classification_report\n",
    "from sklearn.metrics import confusion_matrix"
   ]
  },
  {
   "cell_type": "markdown",
   "metadata": {
    "colab_type": "text",
    "id": "QpclNqU2gF6C"
   },
   "source": [
    "#### Set some variables to allow reproducibility"
   ]
  },
  {
   "cell_type": "code",
   "execution_count": 2,
   "metadata": {
    "colab": {},
    "colab_type": "code",
    "id": "pw8rn-8NgFQL"
   },
   "outputs": [],
   "source": [
    "os.environ[\"PYTHONHASHSEED\"] = \"0\"\n",
    "# The below is necessary for starting Numpy generated random numbers\n",
    "# in a well-defined initial state.\n",
    "np.random.seed(42)\n",
    "# The below is necessary for starting core Python generated random numbers\n",
    "# in a well-defined state.\n",
    "rn.seed(12345)\n",
    "# The below tf.set_random_seed() will make random number generation\n",
    "# in the TensorFlow backend have a well-defined initial state.\n",
    "# For further details, see:\n",
    "# https://www.tensorflow.org/api_docs/python/tf/set_random_seed\n",
    "tf.set_random_seed(1234)"
   ]
  },
  {
   "cell_type": "markdown",
   "metadata": {
    "colab_type": "text",
    "id": "587xdFE8fvo1"
   },
   "source": [
    "## Download the flowers dataset from kaggle"
   ]
  },
  {
   "cell_type": "markdown",
   "metadata": {
    "colab_type": "text",
    "id": "V6sdcCQTgYg4"
   },
   "source": [
    "### Set kaggle username and key"
   ]
  },
  {
   "cell_type": "code",
   "execution_count": 10,
   "metadata": {
    "colab": {},
    "colab_type": "code",
    "id": "Dpy9eyg3gWqy"
   },
   "outputs": [],
   "source": [
    "os.environ[\"KAGGLE_USERNAME\"] = \"{username}\"\n",
    "os.environ[\"KAGGLE_KEY\"] = \"{key}\""
   ]
  },
  {
   "cell_type": "markdown",
   "metadata": {
    "colab_type": "text",
    "id": "rrjm6-dmhHia"
   },
   "source": [
    "### Download using the Kaggle API\n",
    "\n",
    "https://www.kaggle.com/docs/api"
   ]
  },
  {
   "cell_type": "code",
   "execution_count": null,
   "metadata": {
    "colab": {
     "base_uri": "https://localhost:8080/",
     "height": 1000
    },
    "colab_type": "code",
    "id": "ZdhMCqe7hMO4",
    "outputId": "623ef92e-99b4-4d41-dc63-18e05c6c6482"
   },
   "outputs": [],
   "source": [
    "!kaggle datasets download -d alxmamaev/flowers-recognition\n",
    "!unzip flowers-recognition.zip\n",
    "!rm flowers-recognition.zip\n",
    "!rm -f 'flowers/dandelion/flickr.py'\n",
    "!rm -f 'flowers/dandelion/flickr.pyc'\n",
    "!rm -f 'flowers/dandelion/run_me.py'\n",
    "!rm -rf 'flowers/flowers'"
   ]
  },
  {
   "cell_type": "markdown",
   "metadata": {
    "colab_type": "text",
    "id": "HG73FcgThSon"
   },
   "source": [
    "## Organize data and split into train, validation and test"
   ]
  },
  {
   "cell_type": "code",
   "execution_count": 12,
   "metadata": {
    "colab": {
     "base_uri": "https://localhost:8080/",
     "height": 403
    },
    "colab_type": "code",
    "id": "4LP0V_FUi6qO",
    "outputId": "65d5de05-2ba9-4932-8818-8816efad6d35"
   },
   "outputs": [
    {
     "name": "stdout",
     "output_type": "stream",
     "text": [
      "[['daisy' 0 list([])]\n",
      " ['dandelion' 1 list([])]\n",
      " ['rose' 2 list([])]\n",
      " ['sunflower' 3 list([])]\n",
      " ['tulip' 4 list([])]]\n",
      "-----------------------\n",
      "Total images per class...\n",
      "daisy : 769\n",
      "dandelion : 1052\n",
      "rose : 784\n",
      "sunflower : 734\n",
      "tulip : 984\n",
      "-----------------------\n",
      "Total of images: 4323\n",
      "-----------------------\n",
      "Total per set...\n",
      "x_train: 2623\n",
      "x_test: 850\n",
      "x_val: 850\n",
      "-----------------------\n",
      "File test.txt created.\n",
      "File val.txt created.\n",
      "File train.txt created.\n"
     ]
    }
   ],
   "source": [
    "dataset_path = 'flowers'\n",
    "for (dirpath, dirnames, filenames) in walk(dataset_path):\n",
    "    if (len(dirnames) > 0):\n",
    "        folders_with_labels =  np.empty([len(dirnames), 3], dtype=object)\n",
    "        i = 0\n",
    "        for dir_name in sorted(dirnames, key=str.lower):\n",
    "            folders_with_labels[i][0] = dir_name\n",
    "            folders_with_labels[i][1] = i\n",
    "            folders_with_labels[i][2] = []\n",
    "            i += 1\n",
    "print(folders_with_labels)\n",
    "\n",
    "for path, label, imgs in folders_with_labels:\n",
    "    for (dirpath, dirnames, filenames) in walk(os.path.join(dataset_path, path)):\n",
    "        for file_name in filenames:\n",
    "            imgs.append('{}/{},{}'.format(path, file_name, label))\n",
    "            \n",
    "print('-----------------------')\n",
    "print(\"Total images per class...\")\n",
    "total = 0\n",
    "for path, label, imgs in folders_with_labels:\n",
    "    print(path, \":\", len(imgs))\n",
    "    total += len(imgs)\n",
    "print('-----------------------')\n",
    "print('Total of images:', total)\n",
    "\n",
    "split_validation = 170\n",
    "split_test = 170\n",
    "train = []\n",
    "val = []\n",
    "test = []\n",
    "for path, label, imgs in folders_with_labels:\n",
    "    test.extend(imgs[0:split_test])\n",
    "    val.extend(imgs[split_test:split_test+split_validation])\n",
    "    train.extend(imgs[split_test+split_validation:len(imgs)])\n",
    "    \n",
    "print('-----------------------')\n",
    "print('Total per set...')\n",
    "print('x_train:', len(train))\n",
    "print('x_test:', len(test))\n",
    "print('x_val:', len(val))\n",
    "\n",
    "from random import shuffle\n",
    "shuffle(test)\n",
    "shuffle(val)\n",
    "shuffle(train)\n",
    "\n",
    "print('-----------------------')\n",
    "with open(os.path.join(dataset_path, 'test.txt'), 'w') as f:  \n",
    "    f.writelines(\"%s\\n\" % item for item in test)\n",
    "    print('File test.txt created.')\n",
    "    \n",
    "with open(os.path.join(dataset_path, 'val.txt'), 'w') as f:  \n",
    "    f.writelines(\"%s\\n\" % item for item in val)\n",
    "    print('File val.txt created.')\n",
    "    \n",
    "with open(os.path.join(dataset_path, 'train.txt'), 'w') as f:  \n",
    "    f.writelines(\"%s\\n\" % item for item in train)\n",
    "    print('File train.txt created.')"
   ]
  },
  {
   "cell_type": "markdown",
   "metadata": {
    "colab_type": "text",
    "id": "X4C29RyK-mI5"
   },
   "source": [
    "### Set initial parameters, functions and generators"
   ]
  },
  {
   "cell_type": "markdown",
   "metadata": {
    "colab_type": "text",
    "id": "L5bL1hui26lR"
   },
   "source": [
    "Set parameters for our model and training"
   ]
  },
  {
   "cell_type": "code",
   "execution_count": 3,
   "metadata": {
    "colab": {},
    "colab_type": "code",
    "id": "4zg8Bo7Z6hHN"
   },
   "outputs": [],
   "source": [
    "dataset_path = 'flowers'\n",
    "width = 224\n",
    "height = 224\n",
    "input_shape = (width, height, 3)\n",
    "batch_size = 10\n",
    "verbose = 1\n",
    "classes_dict = {\n",
    "    0: 'daisy',\n",
    "    1: 'dandelion',\n",
    "    2: 'rose',\n",
    "    3: 'sunflower',\n",
    "    4: 'tulip'\n",
    "}"
   ]
  },
  {
   "cell_type": "markdown",
   "metadata": {
    "colab_type": "text",
    "id": "8Ffdk9ke2_RM"
   },
   "source": [
    "Here we define 3 functions:\n",
    "\n",
    "\n",
    "*   read_training_file() : Read the paths to images and labels for the dataset using each file (train, validation and test).\n",
    "*   preprocess_image() : Preprocess the images in batch, set the size, the type and put in the TF format (scale pixels between -1 and 1).\n",
    "*   data_generator() : Returns a generator that reads the images in batch and call the preprocess function, to be used in the training process with the fit_generator function.\n",
    "\n"
   ]
  },
  {
   "cell_type": "code",
   "execution_count": 4,
   "metadata": {
    "colab": {},
    "colab_type": "code",
    "id": "0tiD5AjA6lt4"
   },
   "outputs": [],
   "source": [
    "def read_training_file(path, separator=' '):\n",
    "    images = []\n",
    "    labels = []\n",
    "    with open(path, 'r') as f:\n",
    "        for i in tqdm(f.readlines()):\n",
    "            img_name, cls = i.strip().split(separator)\n",
    "            cls = int(cls)\n",
    "            images.append(img_name)\n",
    "            labels.append(cls)\n",
    "    return images, labels\n",
    "\n",
    "def preprocess_image(images, images_path, width, height):\n",
    "    pp_images = []\n",
    "\n",
    "    for image in images:\n",
    "        img = cv2.imread(os.path.join(images_path, image))\n",
    "        if img.shape[0] != 224 or img.shape[1] != 224:\n",
    "            img = cv2.resize(img, (width, height), interpolation=cv2.INTER_NEAREST)\n",
    "        img = np.asarray(img, 'float32')\n",
    "        img = preprocess_input(img, mode='tf')\n",
    "        pp_images.append(img)\n",
    "\n",
    "    return np.asarray(pp_images)\n",
    "\n",
    "def data_generator(images, labels, batch_size, images_path, width, height):\n",
    "    batch_start = 0\n",
    "    while batch_start < len(images):\n",
    "        batch_end = min(batch_start + batch_size, len(images))\n",
    "        y_batch = labels[batch_start : batch_end]\n",
    "        x_batch = preprocess_image(images[batch_start : batch_end],\n",
    "                                   images_path,\n",
    "                                   width,\n",
    "                                   height)\n",
    "        batch_start += batch_size\n",
    "        if batch_start >= len(images):\n",
    "            batch_start = 0\n",
    "        yield (x_batch, y_batch)"
   ]
  },
  {
   "cell_type": "markdown",
   "metadata": {
    "colab_type": "text",
    "id": "5Cyv-ek55mOX"
   },
   "source": [
    "Read the label files (train, val and test) and set two arrays:\n",
    "\n",
    "1.   paths to images.\n",
    "2.   labels as a binary class matrix, for use with categorical_crossentropy.\n",
    "\n"
   ]
  },
  {
   "cell_type": "code",
   "execution_count": 5,
   "metadata": {
    "colab": {
     "base_uri": "https://localhost:8080/",
     "height": 134
    },
    "colab_type": "code",
    "id": "xB9mzb836n02",
    "outputId": "b115324b-6815-4800-c70b-3873365ad033"
   },
   "outputs": [
    {
     "name": "stderr",
     "output_type": "stream",
     "text": [
      "100%|██████████| 2623/2623 [00:00<00:00, 599545.47it/s]\n",
      "100%|██████████| 850/850 [00:00<00:00, 395075.18it/s]\n",
      "100%|██████████| 850/850 [00:00<00:00, 465182.46it/s]"
     ]
    },
    {
     "name": "stdout",
     "output_type": "stream",
     "text": [
      "Train: 2623 documents\n",
      "Validation: 850 documents\n",
      "Test: 850 documents\n",
      "(2623, 5) (850, 5) (850, 5)\n"
     ]
    },
    {
     "name": "stderr",
     "output_type": "stream",
     "text": [
      "\n"
     ]
    }
   ],
   "source": [
    "train_path = os.path.join(dataset_path, 'train.txt')\n",
    "val_path = os.path.join(dataset_path, 'val.txt')\n",
    "test_path = os.path.join(dataset_path, 'test.txt')\n",
    "\n",
    "train_images, train_labels = read_training_file(train_path, ',')\n",
    "val_images, val_labels = read_training_file(val_path, ',')\n",
    "test_images, test_labels = read_training_file(test_path, ',')\n",
    "\n",
    "print('Train: {} documents'.format(len(train_images)))\n",
    "print('Validation: {} documents'.format(len(val_images)))\n",
    "print('Test: {} documents'.format(len(test_images)))\n",
    "\n",
    "train_labels_one_hot = to_categorical(train_labels)\n",
    "val_labels_one_hot = to_categorical(val_labels)\n",
    "test_labels_one_hot = to_categorical(test_labels)\n",
    "print(train_labels_one_hot.shape, val_labels_one_hot.shape, test_labels_one_hot.shape)"
   ]
  },
  {
   "cell_type": "markdown",
   "metadata": {
    "colab_type": "text",
    "id": "n7oJhO-78vvf"
   },
   "source": [
    "Create generators for the training set and validation set."
   ]
  },
  {
   "cell_type": "code",
   "execution_count": 6,
   "metadata": {
    "colab": {},
    "colab_type": "code",
    "id": "bzEODO5n6p3D"
   },
   "outputs": [],
   "source": [
    "train_gen = data_generator(train_images, train_labels_one_hot, batch_size, dataset_path, width, height)\n",
    "val_gen = data_generator(val_images, val_labels_one_hot, batch_size, dataset_path, width, height)\n",
    "\n",
    "num_batches_per_epoch = int(round(len(train_images) / float(batch_size)))\n",
    "num_batches_per_epoch_val = int(round(len(val_images) / float(batch_size)))"
   ]
  },
  {
   "cell_type": "markdown",
   "metadata": {
    "colab_type": "text",
    "id": "jobAtNs72026"
   },
   "source": [
    "## 1 - Fine-tuning VGG16 with 2 FC layers"
   ]
  },
  {
   "cell_type": "markdown",
   "metadata": {
    "colab_type": "text",
    "id": "-Fa6Kdia85vT"
   },
   "source": [
    "### Define and compile the model architecture"
   ]
  },
  {
   "cell_type": "code",
   "execution_count": 7,
   "metadata": {
    "colab": {
     "base_uri": "https://localhost:8080/",
     "height": 440
    },
    "colab_type": "code",
    "id": "VHXj0AGp6rwm",
    "outputId": "e0813b63-9155-4d62-f9d7-8260d00de454"
   },
   "outputs": [
    {
     "name": "stdout",
     "output_type": "stream",
     "text": [
      "WARNING:tensorflow:From /home/ribani/virtual-envs/sibgrapi19/lib/python3.6/site-packages/keras/backend/tensorflow_backend.py:66: The name tf.get_default_graph is deprecated. Please use tf.compat.v1.get_default_graph instead.\n",
      "\n",
      "WARNING:tensorflow:From /home/ribani/virtual-envs/sibgrapi19/lib/python3.6/site-packages/keras/backend/tensorflow_backend.py:541: The name tf.placeholder is deprecated. Please use tf.compat.v1.placeholder instead.\n",
      "\n",
      "WARNING:tensorflow:From /home/ribani/virtual-envs/sibgrapi19/lib/python3.6/site-packages/keras/backend/tensorflow_backend.py:4432: The name tf.random_uniform is deprecated. Please use tf.random.uniform instead.\n",
      "\n",
      "WARNING:tensorflow:From /home/ribani/virtual-envs/sibgrapi19/lib/python3.6/site-packages/keras/backend/tensorflow_backend.py:4267: The name tf.nn.max_pool is deprecated. Please use tf.nn.max_pool2d instead.\n",
      "\n",
      "WARNING:tensorflow:From /home/ribani/virtual-envs/sibgrapi19/lib/python3.6/site-packages/keras/backend/tensorflow_backend.py:190: The name tf.get_default_session is deprecated. Please use tf.compat.v1.get_default_session instead.\n",
      "\n",
      "WARNING:tensorflow:From /home/ribani/virtual-envs/sibgrapi19/lib/python3.6/site-packages/keras/backend/tensorflow_backend.py:197: The name tf.ConfigProto is deprecated. Please use tf.compat.v1.ConfigProto instead.\n",
      "\n"
     ]
    }
   ],
   "source": [
    "base_vgg = vgg16.VGG16(include_top=False, weights='imagenet', input_shape=input_shape)\n",
    "\n",
    "x = base_vgg.output\n",
    "x = Flatten(name='flatten')(x)\n",
    "x = Dense(512, activation='relu', name='fc1')(x)\n",
    "x = Dense(512, activation='relu', name='fc2')(x)\n",
    "x = Dense(len(classes_dict.keys()), activation='softmax', name='predictions')(x)\n",
    "\n",
    "model = Model(inputs=base_vgg.input, outputs=x)"
   ]
  },
  {
   "cell_type": "markdown",
   "metadata": {
    "colab_type": "text",
    "id": "6RTBUwfB3_Dv"
   },
   "source": [
    "### Set trainable and non-trainable layers\n",
    "\n",
    "Here we are freezing the first 3 blocks of the VGG16 and set the rest of the layers in the model as trainable. The block4 and block5 of convolutions will be fine-tuned and the fully-connected layers will be trained from zero."
   ]
  },
  {
   "cell_type": "code",
   "execution_count": 8,
   "metadata": {
    "colab": {
     "base_uri": "https://localhost:8080/",
     "height": 454
    },
    "colab_type": "code",
    "id": "VY3wh-nXrvcx",
    "outputId": "9254be8e-87fe-4cad-eae7-41fbe2603239"
   },
   "outputs": [
    {
     "name": "stdout",
     "output_type": "stream",
     "text": [
      "Not trainable\n",
      "input_1: <keras.engine.input_layer.InputLayer object at 0x7f08e0065438>\n",
      "block1_conv1: <keras.layers.convolutional.Conv2D object at 0x7f08d080b0f0>\n",
      "block1_conv2: <keras.layers.convolutional.Conv2D object at 0x7f08d080b2e8>\n",
      "block1_pool: <keras.layers.pooling.MaxPooling2D object at 0x7f08d07815c0>\n",
      "block2_conv1: <keras.layers.convolutional.Conv2D object at 0x7f08d0781d30>\n",
      "block2_conv2: <keras.layers.convolutional.Conv2D object at 0x7f08d073a668>\n",
      "block2_pool: <keras.layers.pooling.MaxPooling2D object at 0x7f08d073acc0>\n",
      "block3_conv1: <keras.layers.convolutional.Conv2D object at 0x7f08d0754828>\n",
      "block3_conv2: <keras.layers.convolutional.Conv2D object at 0x7f08bf97f1d0>\n",
      "block3_conv3: <keras.layers.convolutional.Conv2D object at 0x7f08bf97fac8>\n",
      "block3_pool: <keras.layers.pooling.MaxPooling2D object at 0x7f08bf936eb8>\n",
      "flatten: <keras.layers.core.Flatten object at 0x7f08e00654a8>\n",
      "\n",
      "Trainable\n",
      "block4_conv1: <keras.layers.convolutional.Conv2D object at 0x7f08bf936a20>\n",
      "block4_conv2: <keras.layers.convolutional.Conv2D object at 0x7f08bf8e3550>\n",
      "block4_conv3: <keras.layers.convolutional.Conv2D object at 0x7f08bf8e3e80>\n",
      "block4_pool: <keras.layers.pooling.MaxPooling2D object at 0x7f08bf919c18>\n",
      "block5_conv1: <keras.layers.convolutional.Conv2D object at 0x7f08bf919da0>\n",
      "block5_conv2: <keras.layers.convolutional.Conv2D object at 0x7f08bf8cd4e0>\n",
      "block5_conv3: <keras.layers.convolutional.Conv2D object at 0x7f08bf868cf8>\n",
      "block5_pool: <keras.layers.pooling.MaxPooling2D object at 0x7f08bf87ee48>\n",
      "fc1: <keras.layers.core.Dense object at 0x7f08bf899c88>\n",
      "fc2: <keras.layers.core.Dense object at 0x7f08bf35f208>\n",
      "predictions: <keras.layers.core.Dense object at 0x7f08bf2fe320>\n"
     ]
    }
   ],
   "source": [
    "trainable_layers = ['block4', 'block5', 'fc', 'predictions']\n",
    "\n",
    "for layer in model.layers:\n",
    "  if any(_layer in layer.name for _layer in trainable_layers):\n",
    "    layer.trainable = True\n",
    "  else:\n",
    "    layer.trainable = False\n",
    "    \n",
    "print('Not trainable')\n",
    "for layer in model.layers:\n",
    "  if not layer.trainable:\n",
    "    print(layer.name + ': ' + str(layer))\n",
    "\n",
    "print('')\n",
    "print('Trainable')\n",
    "for layer in model.layers:\n",
    "  if layer.trainable:\n",
    "    print(layer.name + ': ' + str(layer))\n"
   ]
  },
  {
   "cell_type": "code",
   "execution_count": 9,
   "metadata": {},
   "outputs": [
    {
     "name": "stdout",
     "output_type": "stream",
     "text": [
      "WARNING:tensorflow:From /home/ribani/virtual-envs/sibgrapi19/lib/python3.6/site-packages/keras/optimizers.py:793: The name tf.train.Optimizer is deprecated. Please use tf.compat.v1.train.Optimizer instead.\n",
      "\n"
     ]
    }
   ],
   "source": [
    "model.compile(optimizer=optimizers.SGD(lr=0.01), loss='categorical_crossentropy', metrics=['accuracy'])"
   ]
  },
  {
   "cell_type": "markdown",
   "metadata": {
    "colab_type": "text",
    "id": "JYQLneUm9Md3"
   },
   "source": [
    "### Train the model."
   ]
  },
  {
   "cell_type": "code",
   "execution_count": null,
   "metadata": {
    "colab": {
     "base_uri": "https://localhost:8080/",
     "height": 1000
    },
    "colab_type": "code",
    "id": "7fCUZYj36vcu",
    "outputId": "bd224ab7-9b6d-488e-c40a-773031da2a0f"
   },
   "outputs": [],
   "source": [
    "num_epochs = 30\n",
    "\n",
    "print('Start training...')\n",
    "history = model.fit_generator(train_gen,\n",
    "                                  steps_per_epoch=num_batches_per_epoch,\n",
    "                                  epochs=num_epochs,\n",
    "                                  verbose=verbose,\n",
    "                                  validation_data=val_gen,\n",
    "                                  validation_steps=num_batches_per_epoch_val)\n",
    "print('Model trained.')"
   ]
  },
  {
   "cell_type": "code",
   "execution_count": 11,
   "metadata": {},
   "outputs": [
    {
     "name": "stdout",
     "output_type": "stream",
     "text": [
      "Model saved.\n"
     ]
    }
   ],
   "source": [
    "model.save('4_vgg16_fine_tuning_model1.h5')\n",
    "print('Model saved.')"
   ]
  },
  {
   "cell_type": "markdown",
   "metadata": {
    "colab_type": "text",
    "id": "qsM0ndgq9PCx"
   },
   "source": [
    "### Plot training metrics \n",
    "\n",
    "Plot accuracy and loss for the training and validation sets."
   ]
  },
  {
   "cell_type": "code",
   "execution_count": 12,
   "metadata": {
    "colab": {
     "base_uri": "https://localhost:8080/",
     "height": 918
    },
    "colab_type": "code",
    "id": "1nHlYXGck3uk",
    "outputId": "ffc1ed96-c503-41e3-cdeb-5b92422bbc3c"
   },
   "outputs": [
    {
     "data": {
      "text/plain": [
       "<matplotlib.legend.Legend at 0x7f084940d908>"
      ]
     },
     "execution_count": 12,
     "metadata": {},
     "output_type": "execute_result"
    },
    {
     "data": {
      "image/png": "[encoded data removed]",
      "text/plain": [
       "<Figure size 720x504 with 1 Axes>"
      ]
     },
     "metadata": {},
     "output_type": "display_data"
    },
    {
     "data": {
      "image/png": "[encoded data removed]",
      "text/plain": [
       "<Figure size 720x504 with 1 Axes>"
      ]
     },
     "metadata": {},
     "output_type": "display_data"
    }
   ],
   "source": [
    "sns.set(font_scale=1.5)\n",
    "plt.figure(figsize=(10, 7))\n",
    "plt.title('Accuracy')\n",
    "plt.ylim((0.0, 1.0))\n",
    "plt.plot(history.history['acc'])\n",
    "plt.plot(history.history['val_acc'])\n",
    "plt.legend(['Train', 'Val'], loc='upper left')\n",
    "\n",
    "sns.set(font_scale=1.5)\n",
    "plt.figure(figsize=(10, 7))\n",
    "plt.title('Loss')\n",
    "plt.plot(history.history['loss'])\n",
    "plt.plot(history.history['val_loss'])\n",
    "plt.ylim((0.0, 3.0))\n",
    "plt.legend(['Train', 'Val'], loc='upper left')"
   ]
  },
  {
   "cell_type": "markdown",
   "metadata": {
    "colab_type": "text",
    "id": "3sDi9-aK9fW7"
   },
   "source": [
    "### Evaluate the trained model with the test set."
   ]
  },
  {
   "cell_type": "code",
   "execution_count": null,
   "metadata": {
    "colab": {
     "base_uri": "https://localhost:8080/",
     "height": 84
    },
    "colab_type": "code",
    "id": "GHak2zX4l-9D",
    "outputId": "c0f14e89-6f24-4c9c-f504-6b38451086aa"
   },
   "outputs": [],
   "source": [
    "num_batches_per_epoch_test = int(round(len(test_images) / float(batch_size)))\n",
    "\n",
    "print('Evaluating trained model...')\n",
    "result = model.evaluate_generator(generator=data_generator(test_images,\n",
    "                                                               test_labels_one_hot,\n",
    "                                                               batch_size,\n",
    "                                                               dataset_path, width, height),\n",
    "                                      steps=num_batches_per_epoch_test)\n",
    "\n",
    "print(\"Finished model.evaluate_generator\")\n",
    "print(model.metrics_names)\n",
    "print(result)"
   ]
  },
  {
   "cell_type": "markdown",
   "metadata": {
    "colab_type": "text",
    "id": "LlKFHl_39jQe"
   },
   "source": [
    "### Generate the classification report from the test set."
   ]
  },
  {
   "cell_type": "code",
   "execution_count": 14,
   "metadata": {
    "colab": {
     "base_uri": "https://localhost:8080/",
     "height": 558
    },
    "colab_type": "code",
    "id": "3eKfyiPhmK9H",
    "outputId": "5ac1edf1-e751-4ada-918a-c9afad5f6d75"
   },
   "outputs": [
    {
     "name": "stdout",
     "output_type": "stream",
     "text": [
      "85/85 [==============================] - 7s 81ms/step\n",
      "              precision    recall  f1-score   support\n",
      "\n",
      "       daisy       0.95      0.89      0.92       170\n",
      "   dandelion       0.86      0.96      0.91       170\n",
      "        rose       0.88      0.80      0.84       170\n",
      "   sunflower       0.96      0.89      0.93       170\n",
      "       tulip       0.81      0.90      0.85       170\n",
      "\n",
      "    accuracy                           0.89       850\n",
      "   macro avg       0.89      0.89      0.89       850\n",
      "weighted avg       0.89      0.89      0.89       850\n",
      "\n"
     ]
    },
    {
     "data": {
      "image/png": "[encoded data removed]",
      "text/plain": [
       "<Figure size 504x360 with 2 Axes>"
      ]
     },
     "metadata": {},
     "output_type": "display_data"
    }
   ],
   "source": [
    "y_test_pred = model.predict_generator(generator=data_generator(test_images,\n",
    "                                                                        test_labels_one_hot,\n",
    "                                                                        batch_size,\n",
    "                                                                        dataset_path, width, height),\n",
    "                                          steps=num_batches_per_epoch_test,\n",
    "                                          verbose=1)\n",
    "\n",
    "y_test_pred_processed = np.argmax(y_test_pred, axis=-1)\n",
    "y_test_processed = np.argmax(test_labels_one_hot, axis=-1)\n",
    "classes_names = classes_dict.values()\n",
    "\n",
    "print(classification_report(y_test_processed, y_test_pred_processed, target_names=classes_names))\n",
    "\n",
    "cm = confusion_matrix(y_test_pred_processed, y_test_processed)\n",
    "plt.figure(figsize=(7, 5))\n",
    "sns.heatmap(cm, annot=True, fmt='d', linewidths=.8,\n",
    "            yticklabels=classes_names, xticklabels=classes_names, cmap='Blues')\n",
    "\n",
    "plt.show()"
   ]
  },
  {
   "cell_type": "markdown",
   "metadata": {
    "colab_type": "text",
    "id": "9zrvbGTEtp_n"
   },
   "source": [
    "## 2 - Fine-tuning VGG16 with 2 FC layers + Regularization"
   ]
  },
  {
   "cell_type": "markdown",
   "metadata": {
    "colab_type": "text",
    "id": "zx0O7j85ubOO"
   },
   "source": [
    "### Define and compile our basic model architecture"
   ]
  },
  {
   "cell_type": "code",
   "execution_count": 15,
   "metadata": {
    "colab": {
     "base_uri": "https://localhost:8080/",
     "height": 558
    },
    "colab_type": "code",
    "id": "EcpOAaNtrle4",
    "outputId": "f54f5696-3d7e-4410-ff85-453c1673d5f6"
   },
   "outputs": [
    {
     "name": "stdout",
     "output_type": "stream",
     "text": [
      "WARNING:tensorflow:From /home/ribani/virtual-envs/sibgrapi19/lib/python3.6/site-packages/keras/backend/tensorflow_backend.py:3733: calling dropout (from tensorflow.python.ops.nn_ops) with keep_prob is deprecated and will be removed in a future version.\n",
      "Instructions for updating:\n",
      "Please use `rate` instead of `keep_prob`. Rate should be set to `rate = 1 - keep_prob`.\n"
     ]
    }
   ],
   "source": [
    "base_vgg = vgg16.VGG16(include_top=False, weights='imagenet', input_shape=input_shape)\n",
    "\n",
    "x = base_vgg.output\n",
    "x = Flatten(name='flatten')(x)\n",
    "x = Dense(512, activation='relu', name='fc1')(x)\n",
    "x = Dropout(0.3)(x)\n",
    "x = Dense(512, activation='relu', name='fc2')(x)\n",
    "x = Dropout(0.3)(x)\n",
    "x = Dense(len(classes_dict.keys()), activation='softmax', name='predictions')(x)\n",
    "\n",
    "model = Model(inputs=base_vgg.input, outputs=x)"
   ]
  },
  {
   "cell_type": "markdown",
   "metadata": {},
   "source": [
    "### Set trainable and non-trainable layers\n",
    "\n",
    "Here we are freezing the first 3 blocks of the VGG16 and set the rest of the layers in the model as trainable. The block4 and block5 of convolutions will be fine-tuned and the fully-connected layers will be trained from zero."
   ]
  },
  {
   "cell_type": "code",
   "execution_count": 16,
   "metadata": {},
   "outputs": [
    {
     "name": "stdout",
     "output_type": "stream",
     "text": [
      "Not trainable\n",
      "input_2: <keras.engine.input_layer.InputLayer object at 0x7f0848e93fd0>\n",
      "block1_conv1: <keras.layers.convolutional.Conv2D object at 0x7f084937ca20>\n",
      "block1_conv2: <keras.layers.convolutional.Conv2D object at 0x7f084937ceb8>\n",
      "block1_pool: <keras.layers.pooling.MaxPooling2D object at 0x7f0848e50dd8>\n",
      "block2_conv1: <keras.layers.convolutional.Conv2D object at 0x7f0848e507b8>\n",
      "block2_conv2: <keras.layers.convolutional.Conv2D object at 0x7f0848e7fb00>\n",
      "block2_pool: <keras.layers.pooling.MaxPooling2D object at 0x7f0848e19e10>\n",
      "block3_conv1: <keras.layers.convolutional.Conv2D object at 0x7f0848e19eb8>\n",
      "block3_conv2: <keras.layers.convolutional.Conv2D object at 0x7f0848dcf8d0>\n",
      "block3_conv3: <keras.layers.convolutional.Conv2D object at 0x7f0848deab00>\n",
      "block3_pool: <keras.layers.pooling.MaxPooling2D object at 0x7f0848e01f60>\n",
      "flatten: <keras.layers.core.Flatten object at 0x7f0848c54f98>\n",
      "dropout_1: <keras.layers.core.Dropout object at 0x7f0848c98d68>\n",
      "dropout_2: <keras.layers.core.Dropout object at 0x7f0848bfaf28>\n",
      "\n",
      "Trainable\n",
      "block4_conv1: <keras.layers.convolutional.Conv2D object at 0x7f0848e01a90>\n",
      "block4_conv2: <keras.layers.convolutional.Conv2D object at 0x7f0848dbec50>\n",
      "block4_conv3: <keras.layers.convolutional.Conv2D object at 0x7f0848d57f98>\n",
      "block4_pool: <keras.layers.pooling.MaxPooling2D object at 0x7f0848d70c88>\n",
      "block5_conv1: <keras.layers.convolutional.Conv2D object at 0x7f0848d127f0>\n",
      "block5_conv2: <keras.layers.convolutional.Conv2D object at 0x7f0848cc71d0>\n",
      "block5_conv3: <keras.layers.convolutional.Conv2D object at 0x7f0848cc7b00>\n",
      "block5_pool: <keras.layers.pooling.MaxPooling2D object at 0x7f0848d02f28>\n",
      "fc1: <keras.layers.core.Dense object at 0x7f084931d400>\n",
      "fc2: <keras.layers.core.Dense object at 0x7f0848bfaf98>\n",
      "predictions: <keras.layers.core.Dense object at 0x7f0848bbb978>\n"
     ]
    }
   ],
   "source": [
    "trainable_layers = ['block4', 'block5', 'fc', 'predictions']\n",
    "\n",
    "for layer in model.layers:\n",
    "  if any(_layer in layer.name for _layer in trainable_layers):\n",
    "    layer.trainable = True\n",
    "  else:\n",
    "    layer.trainable = False\n",
    "    \n",
    "print('Not trainable')\n",
    "for layer in model.layers:\n",
    "  if not layer.trainable:\n",
    "    print(layer.name + ': ' + str(layer))\n",
    "\n",
    "print('')\n",
    "print('Trainable')\n",
    "for layer in model.layers:\n",
    "  if layer.trainable:\n",
    "    print(layer.name + ': ' + str(layer))\n"
   ]
  },
  {
   "cell_type": "code",
   "execution_count": 17,
   "metadata": {},
   "outputs": [],
   "source": [
    "model.compile(optimizer=optimizers.SGD(lr=0.01), loss='categorical_crossentropy', metrics=['accuracy'])"
   ]
  },
  {
   "cell_type": "markdown",
   "metadata": {
    "colab_type": "text",
    "id": "NqxgylBtueM3"
   },
   "source": [
    "### Train the model."
   ]
  },
  {
   "cell_type": "code",
   "execution_count": null,
   "metadata": {
    "colab": {
     "base_uri": "https://localhost:8080/",
     "height": 1000
    },
    "colab_type": "code",
    "id": "Ndpj3u1FyR3M",
    "outputId": "a920463b-a462-4c6d-d194-081d650136a4"
   },
   "outputs": [],
   "source": [
    "num_epochs = 30\n",
    "\n",
    "print('Start training...')\n",
    "history = model.fit_generator(train_gen,\n",
    "                                  steps_per_epoch=num_batches_per_epoch,\n",
    "                                  epochs=num_epochs,\n",
    "                                  verbose=verbose,\n",
    "                                  validation_data=val_gen,\n",
    "                                  validation_steps=num_batches_per_epoch_val)\n",
    "print('Model trained.')"
   ]
  },
  {
   "cell_type": "code",
   "execution_count": 19,
   "metadata": {},
   "outputs": [
    {
     "name": "stdout",
     "output_type": "stream",
     "text": [
      "Model saved.\n"
     ]
    }
   ],
   "source": [
    "model.save('4_vgg16_fine_tuning_model2.h5')\n",
    "print('Model saved.')"
   ]
  },
  {
   "cell_type": "markdown",
   "metadata": {
    "colab_type": "text",
    "id": "v2JTFbfKujup"
   },
   "source": [
    "### Plot training metrics \n",
    "\n",
    "Plot accuracy and loss for the training and validation sets."
   ]
  },
  {
   "cell_type": "code",
   "execution_count": 20,
   "metadata": {
    "colab": {
     "base_uri": "https://localhost:8080/",
     "height": 918
    },
    "colab_type": "code",
    "id": "IkoDknfsy2_H",
    "outputId": "963bcb70-ca9b-4699-d36d-4528e510d940"
   },
   "outputs": [
    {
     "data": {
      "text/plain": [
       "<matplotlib.legend.Legend at 0x7f08485d6d30>"
      ]
     },
     "execution_count": 20,
     "metadata": {},
     "output_type": "execute_result"
    },
    {
     "data": {
      "image/png": "[encoded data removed]",
      "text/plain": [
       "<Figure size 720x504 with 1 Axes>"
      ]
     },
     "metadata": {},
     "output_type": "display_data"
    },
    {
     "data": {
      "image/png": "[encoded data removed]",
      "text/plain": [
       "<Figure size 720x504 with 1 Axes>"
      ]
     },
     "metadata": {},
     "output_type": "display_data"
    }
   ],
   "source": [
    "sns.set(font_scale=1.5)\n",
    "plt.figure(figsize=(10, 7))\n",
    "plt.title('Accuracy')\n",
    "plt.ylim((0.0, 1.0))\n",
    "plt.plot(history.history['acc'])\n",
    "plt.plot(history.history['val_acc'])\n",
    "plt.legend(['Train', 'Val'], loc='upper left')\n",
    "\n",
    "sns.set(font_scale=1.5)\n",
    "plt.figure(figsize=(10, 7))\n",
    "plt.title('Loss')\n",
    "plt.plot(history.history['loss'])\n",
    "plt.plot(history.history['val_loss'])\n",
    "plt.ylim((0.0, 3.0))\n",
    "plt.legend(['Train', 'Val'], loc='upper left')"
   ]
  },
  {
   "cell_type": "markdown",
   "metadata": {
    "colab_type": "text",
    "id": "bewF73kUuo-n"
   },
   "source": [
    "### Evaluate the trained model with the test set."
   ]
  },
  {
   "cell_type": "code",
   "execution_count": null,
   "metadata": {
    "colab": {
     "base_uri": "https://localhost:8080/",
     "height": 84
    },
    "colab_type": "code",
    "id": "VA4EPdUDy34j",
    "outputId": "c1c284d3-92d5-4094-ee93-1e95b301bb7b"
   },
   "outputs": [],
   "source": [
    "num_batches_per_epoch_test = int(round(len(test_images) / float(batch_size)))\n",
    "\n",
    "print('Evaluating trained model...')\n",
    "result = model.evaluate_generator(generator=data_generator(test_images,\n",
    "                                                               test_labels_one_hot,\n",
    "                                                               batch_size,\n",
    "                                                               dataset_path, width, height),\n",
    "                                      steps=num_batches_per_epoch_test)\n",
    "\n",
    "print(\"Finished model.evaluate_generator\")\n",
    "print(model.metrics_names)\n",
    "print(result)"
   ]
  },
  {
   "cell_type": "markdown",
   "metadata": {
    "colab_type": "text",
    "id": "FE509twgusml"
   },
   "source": [
    "### Generate the classification report from the test set."
   ]
  },
  {
   "cell_type": "code",
   "execution_count": 22,
   "metadata": {
    "colab": {
     "base_uri": "https://localhost:8080/",
     "height": 554
    },
    "colab_type": "code",
    "id": "JwLuJpAzy8NA",
    "outputId": "b9cde5a6-d16a-423e-a403-56e1dc7b2b1d"
   },
   "outputs": [
    {
     "name": "stdout",
     "output_type": "stream",
     "text": [
      "85/85 [==============================] - 7s 81ms/step\n",
      "              precision    recall  f1-score   support\n",
      "\n",
      "       daisy       0.97      0.91      0.94       170\n",
      "   dandelion       0.87      0.95      0.91       170\n",
      "        rose       0.90      0.82      0.86       170\n",
      "   sunflower       0.93      0.92      0.93       170\n",
      "       tulip       0.84      0.89      0.86       170\n",
      "\n",
      "    accuracy                           0.90       850\n",
      "   macro avg       0.90      0.90      0.90       850\n",
      "weighted avg       0.90      0.90      0.90       850\n",
      "\n"
     ]
    },
    {
     "data": {
      "image/png": "[encoded data removed]",
      "text/plain": [
       "<Figure size 504x360 with 2 Axes>"
      ]
     },
     "metadata": {},
     "output_type": "display_data"
    }
   ],
   "source": [
    "y_test_pred = model.predict_generator(generator=data_generator(test_images,\n",
    "                                                                        test_labels_one_hot,\n",
    "                                                                        batch_size,\n",
    "                                                                        dataset_path, width, height),\n",
    "                                          steps=num_batches_per_epoch_test,\n",
    "                                          verbose=1)\n",
    "\n",
    "y_test_pred_processed = np.argmax(y_test_pred, axis=-1)\n",
    "y_test_processed = np.argmax(test_labels_one_hot, axis=-1)\n",
    "classes_names = classes_dict.values()\n",
    "\n",
    "print(classification_report(y_test_processed, y_test_pred_processed, target_names=classes_names))\n",
    "\n",
    "cm = confusion_matrix(y_test_pred_processed, y_test_processed)\n",
    "plt.figure(figsize=(7, 5))\n",
    "sns.heatmap(cm, annot=True, fmt='d', linewidths=.8,\n",
    "            yticklabels=classes_names, xticklabels=classes_names, cmap='Blues')\n",
    "\n",
    "plt.show()"
   ]
  },
  {
   "cell_type": "markdown",
   "metadata": {
    "colab_type": "text",
    "id": "Lhq1rYayu8Yx"
   },
   "source": [
    "## 3 - Fine-tuning VGG16 with 2 FC layers + Regularization + Augmentation"
   ]
  },
  {
   "cell_type": "markdown",
   "metadata": {
    "colab_type": "text",
    "id": "iQxRL38XnIcx"
   },
   "source": [
    "### Create augmentation generator\n",
    "\n",
    "Here we use the ImageDataGenerator from Keras to apply different types of augmentation."
   ]
  },
  {
   "cell_type": "code",
   "execution_count": 23,
   "metadata": {
    "colab": {},
    "colab_type": "code",
    "id": "79hgSqqyvDuD"
   },
   "outputs": [],
   "source": [
    "image_gen = ImageDataGenerator(zoom_range=0.3,\n",
    "                               horizontal_flip=True,\n",
    "                               fill_mode='nearest')"
   ]
  },
  {
   "cell_type": "code",
   "execution_count": 24,
   "metadata": {
    "colab": {},
    "colab_type": "code",
    "id": "sdaMzbdMvRHn"
   },
   "outputs": [],
   "source": [
    "def augmentation_generator(in_generator):\n",
    "\n",
    "    for in_x, in_y in in_generator:\n",
    "        g_x = image_gen.flow(255*in_x, in_y,\n",
    "                             batch_size=in_x.shape[0])\n",
    "        x, y = next(g_x)\n",
    "\n",
    "        yield x/255.0, y"
   ]
  },
  {
   "cell_type": "code",
   "execution_count": 25,
   "metadata": {
    "colab": {},
    "colab_type": "code",
    "id": "i_pBTtTFvsJb"
   },
   "outputs": [],
   "source": [
    "train_gen = augmentation_generator(train_gen)\n",
    "val_gen = augmentation_generator(val_gen)"
   ]
  },
  {
   "cell_type": "markdown",
   "metadata": {
    "colab_type": "text",
    "id": "v_U9eQsD36SF"
   },
   "source": [
    "### Define and compile the model architecture"
   ]
  },
  {
   "cell_type": "code",
   "execution_count": 26,
   "metadata": {
    "colab": {
     "base_uri": "https://localhost:8080/",
     "height": 558
    },
    "colab_type": "code",
    "id": "bNPtIyQO332l",
    "outputId": "9dd53799-313e-4a5d-fc8e-470604672049"
   },
   "outputs": [],
   "source": [
    "base_vgg = vgg16.VGG16(include_top=False, weights='imagenet', input_shape=input_shape)\n",
    "\n",
    "x = base_vgg.output\n",
    "x = Flatten(name='flatten')(x)\n",
    "x = Dense(512, activation='relu', name='fc1')(x)\n",
    "x = Dropout(0.3)(x)\n",
    "x = Dense(512, activation='relu', name='fc2')(x)\n",
    "x = Dropout(0.3)(x)\n",
    "x = Dense(len(classes_dict.keys()), activation='softmax', name='predictions')(x)\n",
    "\n",
    "model = Model(inputs=base_vgg.input, outputs=x)"
   ]
  },
  {
   "cell_type": "markdown",
   "metadata": {},
   "source": [
    "### Set trainable and non-trainable layers\n",
    "\n",
    "Here we are freezing the first 3 blocks of the VGG16 and set the rest of the layers in the model as trainable. The block4 and block5 of convolutions will be fine-tuned and the fully-connected layers will be trained from zero."
   ]
  },
  {
   "cell_type": "code",
   "execution_count": 27,
   "metadata": {},
   "outputs": [
    {
     "name": "stdout",
     "output_type": "stream",
     "text": [
      "Not trainable\n",
      "input_3: <keras.engine.input_layer.InputLayer object at 0x7f0848501a90>\n",
      "block1_conv1: <keras.layers.convolutional.Conv2D object at 0x7f08485018d0>\n",
      "block1_conv2: <keras.layers.convolutional.Conv2D object at 0x7f0848501dd8>\n",
      "block1_pool: <keras.layers.pooling.MaxPooling2D object at 0x7f084849de48>\n",
      "block2_conv1: <keras.layers.convolutional.Conv2D object at 0x7f084849def0>\n",
      "block2_conv2: <keras.layers.convolutional.Conv2D object at 0x7f08484ba978>\n",
      "block2_pool: <keras.layers.pooling.MaxPooling2D object at 0x7f08483dfbe0>\n",
      "block3_conv1: <keras.layers.convolutional.Conv2D object at 0x7f08483dfd68>\n",
      "block3_conv2: <keras.layers.convolutional.Conv2D object at 0x7f084839a4e0>\n",
      "block3_conv3: <keras.layers.convolutional.Conv2D object at 0x7f08483b5cf8>\n",
      "block3_pool: <keras.layers.pooling.MaxPooling2D object at 0x7f08483ccfd0>\n",
      "flatten: <keras.layers.core.Flatten object at 0x7f0848501908>\n",
      "dropout_3: <keras.layers.core.Dropout object at 0x7f0848279f28>\n",
      "dropout_4: <keras.layers.core.Dropout object at 0x7f0843f70be0>\n",
      "\n",
      "Trainable\n",
      "block4_conv1: <keras.layers.convolutional.Conv2D object at 0x7f08483cc7b8>\n",
      "block4_conv2: <keras.layers.convolutional.Conv2D object at 0x7f0848383ba8>\n",
      "block4_conv3: <keras.layers.convolutional.Conv2D object at 0x7f0848326f28>\n",
      "block4_pool: <keras.layers.pooling.MaxPooling2D object at 0x7f0848337ba8>\n",
      "block5_conv1: <keras.layers.convolutional.Conv2D object at 0x7f08482d9748>\n",
      "block5_conv2: <keras.layers.convolutional.Conv2D object at 0x7f084830e128>\n",
      "block5_conv3: <keras.layers.convolutional.Conv2D object at 0x7f084830ea58>\n",
      "block5_pool: <keras.layers.pooling.MaxPooling2D object at 0x7f08482cae80>\n",
      "fc1: <keras.layers.core.Dense object at 0x7f084825ee10>\n",
      "fc2: <keras.layers.core.Dense object at 0x7f0843f70cf8>\n",
      "predictions: <keras.layers.core.Dense object at 0x7f0843f2e860>\n"
     ]
    }
   ],
   "source": [
    "trainable_layers = ['block4', 'block5', 'fc', 'predictions']\n",
    "\n",
    "for layer in model.layers:\n",
    "  if any(_layer in layer.name for _layer in trainable_layers):\n",
    "    layer.trainable = True\n",
    "  else:\n",
    "    layer.trainable = False\n",
    "    \n",
    "print('Not trainable')\n",
    "for layer in model.layers:\n",
    "  if not layer.trainable:\n",
    "    print(layer.name + ': ' + str(layer))\n",
    "\n",
    "print('')\n",
    "print('Trainable')\n",
    "for layer in model.layers:\n",
    "  if layer.trainable:\n",
    "    print(layer.name + ': ' + str(layer))\n"
   ]
  },
  {
   "cell_type": "code",
   "execution_count": 28,
   "metadata": {},
   "outputs": [],
   "source": [
    "model.compile(optimizer=optimizers.SGD(lr=0.01), loss='categorical_crossentropy', metrics=['accuracy'])"
   ]
  },
  {
   "cell_type": "markdown",
   "metadata": {
    "colab_type": "text",
    "id": "yl2XqK8lnCMM"
   },
   "source": [
    "### Train the model."
   ]
  },
  {
   "cell_type": "code",
   "execution_count": 29,
   "metadata": {
    "colab": {
     "base_uri": "https://localhost:8080/",
     "height": 386
    },
    "colab_type": "code",
    "id": "SqDqi2Fe32yW",
    "outputId": "adfb13b9-96c6-49cc-f905-a2a53d1199d5"
   },
   "outputs": [
    {
     "name": "stdout",
     "output_type": "stream",
     "text": [
      "Start training...\n",
      "Epoch 1/30\n",
      "262/262 [==============================] - 65s 249ms/step - loss: 1.3253 - acc: 0.4517 - val_loss: 0.8222 - val_acc: 0.6635\n",
      "Epoch 2/30\n",
      "262/262 [==============================] - 63s 241ms/step - loss: 0.7006 - acc: 0.7394 - val_loss: 0.5563 - val_acc: 0.8047\n",
      "Epoch 3/30\n",
      "262/262 [==============================] - 63s 239ms/step - loss: 0.5518 - acc: 0.8024 - val_loss: 0.6210 - val_acc: 0.7635\n",
      "Epoch 4/30\n",
      "262/262 [==============================] - 63s 241ms/step - loss: 0.3820 - acc: 0.8641 - val_loss: 0.4401 - val_acc: 0.8529\n",
      "Epoch 5/30\n",
      "262/262 [==============================] - 63s 240ms/step - loss: 0.3048 - acc: 0.9000 - val_loss: 0.4093 - val_acc: 0.8776\n",
      "Epoch 6/30\n",
      "262/262 [==============================] - 63s 240ms/step - loss: 0.2520 - acc: 0.9141 - val_loss: 1.8275 - val_acc: 0.5871\n",
      "Epoch 7/30\n",
      "262/262 [==============================] - 63s 240ms/step - loss: 0.2977 - acc: 0.8912 - val_loss: 0.5424 - val_acc: 0.8471\n",
      "Epoch 8/30\n",
      "262/262 [==============================] - 63s 242ms/step - loss: 0.1997 - acc: 0.9317 - val_loss: 0.3872 - val_acc: 0.8918\n",
      "Epoch 9/30\n",
      "262/262 [==============================] - 63s 240ms/step - loss: 0.1952 - acc: 0.9412 - val_loss: 0.3903 - val_acc: 0.8788\n",
      "Epoch 10/30\n",
      "262/262 [==============================] - 63s 240ms/step - loss: 0.1254 - acc: 0.9588 - val_loss: 0.3871 - val_acc: 0.8906\n",
      "Epoch 11/30\n",
      "262/262 [==============================] - 63s 242ms/step - loss: 0.1757 - acc: 0.9439 - val_loss: 0.4394 - val_acc: 0.8706\n",
      "Epoch 12/30\n",
      "262/262 [==============================] - 63s 240ms/step - loss: 0.1680 - acc: 0.9469 - val_loss: 0.3709 - val_acc: 0.8835\n",
      "Epoch 13/30\n",
      "262/262 [==============================] - 63s 241ms/step - loss: 0.1769 - acc: 0.9424 - val_loss: 0.4012 - val_acc: 0.8824\n",
      "Epoch 14/30\n",
      "262/262 [==============================] - 63s 241ms/step - loss: 0.1090 - acc: 0.9611 - val_loss: 0.4008 - val_acc: 0.8953\n",
      "Epoch 15/30\n",
      "262/262 [==============================] - 63s 241ms/step - loss: 0.1393 - acc: 0.9573 - val_loss: 0.3985 - val_acc: 0.8965\n",
      "Epoch 16/30\n",
      "262/262 [==============================] - 63s 242ms/step - loss: 0.0958 - acc: 0.9706 - val_loss: 0.5558 - val_acc: 0.8682\n",
      "Epoch 17/30\n",
      "262/262 [==============================] - 63s 240ms/step - loss: 0.0527 - acc: 0.9828 - val_loss: 0.4335 - val_acc: 0.8976\n",
      "Epoch 18/30\n",
      "262/262 [==============================] - 63s 240ms/step - loss: 0.0711 - acc: 0.9752 - val_loss: 0.5116 - val_acc: 0.8824\n",
      "Epoch 19/30\n",
      "262/262 [==============================] - 63s 240ms/step - loss: 0.0526 - acc: 0.9824 - val_loss: 0.4623 - val_acc: 0.8847\n",
      "Epoch 20/30\n",
      "262/262 [==============================] - 63s 242ms/step - loss: 0.0318 - acc: 0.9889 - val_loss: 0.4024 - val_acc: 0.9071\n",
      "Epoch 21/30\n",
      "262/262 [==============================] - 63s 240ms/step - loss: 0.0229 - acc: 0.9927 - val_loss: 0.6165 - val_acc: 0.8729\n",
      "Epoch 22/30\n",
      "262/262 [==============================] - 63s 242ms/step - loss: 0.0444 - acc: 0.9840 - val_loss: 0.4063 - val_acc: 0.9059\n",
      "Epoch 23/30\n",
      "262/262 [==============================] - 63s 240ms/step - loss: 0.0855 - acc: 0.9794 - val_loss: 0.4852 - val_acc: 0.8988\n",
      "Epoch 24/30\n",
      "262/262 [==============================] - 63s 240ms/step - loss: 0.0552 - acc: 0.9813 - val_loss: 0.4439 - val_acc: 0.9024\n",
      "Epoch 25/30\n",
      "262/262 [==============================] - 63s 240ms/step - loss: 0.1108 - acc: 0.9706 - val_loss: 0.4784 - val_acc: 0.8859\n",
      "Epoch 26/30\n",
      "262/262 [==============================] - 63s 240ms/step - loss: 0.0346 - acc: 0.9905 - val_loss: 0.4700 - val_acc: 0.8941\n",
      "Epoch 27/30\n",
      "262/262 [==============================] - 63s 241ms/step - loss: 0.0379 - acc: 0.9882 - val_loss: 0.4652 - val_acc: 0.9000\n",
      "Epoch 28/30\n",
      "262/262 [==============================] - 63s 240ms/step - loss: 0.1105 - acc: 0.9706 - val_loss: 0.4788 - val_acc: 0.8882\n",
      "Epoch 29/30\n",
      "262/262 [==============================] - 63s 240ms/step - loss: 0.1315 - acc: 0.9603 - val_loss: 0.3619 - val_acc: 0.9071\n",
      "Epoch 30/30\n",
      "262/262 [==============================] - 63s 241ms/step - loss: 0.0304 - acc: 0.9916 - val_loss: 0.4188 - val_acc: 0.9035\n",
      "Model trained.\n"
     ]
    }
   ],
   "source": [
    "num_epochs = 30\n",
    "\n",
    "print('Start training...')\n",
    "history = model.fit_generator(train_gen,\n",
    "                                  steps_per_epoch=num_batches_per_epoch,\n",
    "                                  epochs=num_epochs,\n",
    "                                  verbose=verbose,\n",
    "                                  validation_data=val_gen,\n",
    "                                  validation_steps=num_batches_per_epoch_val)\n",
    "print('Model trained.')"
   ]
  },
  {
   "cell_type": "code",
   "execution_count": 30,
   "metadata": {},
   "outputs": [
    {
     "name": "stdout",
     "output_type": "stream",
     "text": [
      "Model saved.\n"
     ]
    }
   ],
   "source": [
    "model.save('4_vgg16_fine_tuning_model3.h5')\n",
    "print('Model saved.')"
   ]
  },
  {
   "cell_type": "markdown",
   "metadata": {
    "colab_type": "text",
    "id": "nnsp2GkZm91E"
   },
   "source": [
    "### Plot training metrics \n",
    "\n",
    "Plot accuracy and loss for the training and validation sets."
   ]
  },
  {
   "cell_type": "code",
   "execution_count": 31,
   "metadata": {
    "colab": {
     "base_uri": "https://localhost:8080/",
     "height": 918
    },
    "colab_type": "code",
    "id": "LnDyr9x374a5",
    "outputId": "0dfb3b13-5b09-4385-db82-6a2ab3e585e9"
   },
   "outputs": [
    {
     "data": {
      "text/plain": [
       "<matplotlib.legend.Legend at 0x7f08439d9208>"
      ]
     },
     "execution_count": 31,
     "metadata": {},
     "output_type": "execute_result"
    },
    {
     "data": {
      "image/png": "[encoded data removed]",
      "text/plain": [
       "<Figure size 720x504 with 1 Axes>"
      ]
     },
     "metadata": {},
     "output_type": "display_data"
    },
    {
     "data": {
      "image/png": "[encoded data removed]",
      "text/plain": [
       "<Figure size 720x504 with 1 Axes>"
      ]
     },
     "metadata": {},
     "output_type": "display_data"
    }
   ],
   "source": [
    "sns.set(font_scale=1.5)\n",
    "plt.figure(figsize=(10, 7))\n",
    "plt.title('Accuracy')\n",
    "plt.ylim((0.0, 1.0))\n",
    "plt.plot(history.history['acc'])\n",
    "plt.plot(history.history['val_acc'])\n",
    "plt.legend(['Train', 'Val'], loc='upper left')\n",
    "\n",
    "sns.set(font_scale=1.5)\n",
    "plt.figure(figsize=(10, 7))\n",
    "plt.title('Loss')\n",
    "plt.plot(history.history['loss'])\n",
    "plt.plot(history.history['val_loss'])\n",
    "plt.ylim((0.0, 3.0))\n",
    "plt.legend(['Train', 'Val'], loc='upper left')"
   ]
  },
  {
   "cell_type": "markdown",
   "metadata": {
    "colab_type": "text",
    "id": "22y-g5SQTnco"
   },
   "source": [
    "### Evaluate the trained model with the test set."
   ]
  },
  {
   "cell_type": "code",
   "execution_count": 32,
   "metadata": {
    "colab": {
     "base_uri": "https://localhost:8080/",
     "height": 84
    },
    "colab_type": "code",
    "id": "RFHUYoLjTonI",
    "outputId": "f433ef90-5b04-45f3-8ab3-982002cb64d1"
   },
   "outputs": [
    {
     "name": "stdout",
     "output_type": "stream",
     "text": [
      "Evaluating trained model...\n",
      "Finished mobilenet.evaluate_generator\n",
      "['loss', 'acc']\n",
      "[0.4179920466008779, 0.907058816797593]\n"
     ]
    }
   ],
   "source": [
    "num_batches_per_epoch_test = int(round(len(test_images) / float(batch_size)))\n",
    "\n",
    "print('Evaluating trained model...')\n",
    "result = model.evaluate_generator(generator=data_generator(test_images,\n",
    "                                                               test_labels_one_hot,\n",
    "                                                               batch_size,\n",
    "                                                               dataset_path, width, height),\n",
    "                                      steps=num_batches_per_epoch_test)\n",
    "\n",
    "print(\"Finished model.evaluate_generator\")\n",
    "print(model.metrics_names)\n",
    "print(result)"
   ]
  },
  {
   "cell_type": "markdown",
   "metadata": {
    "colab_type": "text",
    "id": "Btfl9lFOTuHf"
   },
   "source": [
    "### Generate the classification report from the test set."
   ]
  },
  {
   "cell_type": "code",
   "execution_count": 33,
   "metadata": {
    "colab": {
     "base_uri": "https://localhost:8080/",
     "height": 554
    },
    "colab_type": "code",
    "id": "LoSSHtcQTuoP",
    "outputId": "77c34f5c-7fb0-4703-a3fa-45846024569b"
   },
   "outputs": [
    {
     "name": "stdout",
     "output_type": "stream",
     "text": [
      "85/85 [==============================] - 7s 82ms/step\n",
      "              precision    recall  f1-score   support\n",
      "\n",
      "       daisy       0.96      0.91      0.93       170\n",
      "   dandelion       0.95      0.93      0.94       170\n",
      "        rose       0.87      0.86      0.87       170\n",
      "   sunflower       0.92      0.95      0.93       170\n",
      "       tulip       0.85      0.89      0.87       170\n",
      "\n",
      "    accuracy                           0.91       850\n",
      "   macro avg       0.91      0.91      0.91       850\n",
      "weighted avg       0.91      0.91      0.91       850\n",
      "\n"
     ]
    },
    {
     "data": {
      "image/png": "[encoded data removed]",
      "text/plain": [
       "<Figure size 504x360 with 2 Axes>"
      ]
     },
     "metadata": {},
     "output_type": "display_data"
    }
   ],
   "source": [
    "y_test_pred = model.predict_generator(generator=data_generator(test_images,\n",
    "                                                                        test_labels_one_hot,\n",
    "                                                                        batch_size,\n",
    "                                                                        dataset_path, width, height),\n",
    "                                          steps=num_batches_per_epoch_test,\n",
    "                                          verbose=1)\n",
    "\n",
    "y_test_pred_processed = np.argmax(y_test_pred, axis=-1)\n",
    "y_test_processed = np.argmax(test_labels_one_hot, axis=-1)\n",
    "classes_names = classes_dict.values()\n",
    "\n",
    "print(classification_report(y_test_processed, y_test_pred_processed, target_names=classes_names))\n",
    "\n",
    "cm = confusion_matrix(y_test_pred_processed, y_test_processed)\n",
    "plt.figure(figsize=(7, 5))\n",
    "sns.heatmap(cm, annot=True, fmt='d', linewidths=.8,\n",
    "            yticklabels=classes_names, xticklabels=classes_names, cmap='Blues')\n",
    "\n",
    "plt.show()"
   ]
  },
  {
   "cell_type": "code",
   "execution_count": null,
   "metadata": {},
   "outputs": [],
   "source": []
  }
 ],
 "metadata": {
  "accelerator": "GPU",
  "colab": {
   "collapsed_sections": [],
   "name": "4_vgg16_fine_tuning.ipynb",
   "provenance": [],
   "toc_visible": true
  },
  "kernelspec": {
   "display_name": "Python 3",
   "language": "python",
   "name": "python3"
  },
  "language_info": {
   "codemirror_mode": {
    "name": "ipython",
    "version": 3
   },
   "file_extension": ".py",
   "mimetype": "text/x-python",
   "name": "python",
   "nbconvert_exporter": "python",
   "pygments_lexer": "ipython3",
   "version": "3.6.7"
  }
 },
 "nbformat": 4,
 "nbformat_minor": 4
}
