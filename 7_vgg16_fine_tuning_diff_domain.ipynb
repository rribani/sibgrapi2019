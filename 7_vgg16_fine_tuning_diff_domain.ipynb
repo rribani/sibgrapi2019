{
 "cells": [
  {
   "cell_type": "markdown",
   "metadata": {
    "colab_type": "text",
    "id": "Rq0cLJjagt6u"
   },
   "source": [
    "# Experiment 7 - Train models fine-tuning the VGG16 convolutional layers, pre-trained in ImageNet\n",
    "\n",
    "In this experiment we train a VGG16-based model to perform classification using the Chest X-Ray dataset from Kaggle (https://www.kaggle.com/paultimothymooney/chest-xray-pneumonia). But this time freezing *just some* of the convolutional layers from the VGG16 pre-trained using the ImageNet dataset.\n",
    "\n",
    "We'll perform the same steps as before to find the best performance as possible using this architecture, fine-tuning part of the VGG layers and training the fully-connected layers from zero.\n",
    "\n",
    "The results obtained here will be used later to compare with the future experiments."
   ]
  },
  {
   "cell_type": "code",
   "execution_count": null,
   "metadata": {
    "colab": {
     "base_uri": "https://localhost:8080/",
     "height": 34
    },
    "colab_type": "code",
    "id": "2bKf6hEe0Jsn",
    "outputId": "dd75dad8-5235-4228-d257-14081623d010"
   },
   "outputs": [],
   "source": [
    "%tensorflow_version 1.x\n",
    "import os\n",
    "import numpy as np\n",
    "import tensorflow as tf\n",
    "import random as rn\n",
    "import keras\n",
    "import cv2\n",
    "import matplotlib.pyplot as plt\n",
    "import seaborn as sns\n",
    "sns.set(color_codes=True)\n",
    "\n",
    "from os import walk\n",
    "from tqdm import *\n",
    "from random import shuffle\n",
    "from keras.utils import to_categorical\n",
    "from keras.applications.imagenet_utils import preprocess_input\n",
    "from keras.applications import vgg16\n",
    "from keras.models import Model, Sequential\n",
    "from keras.layers import Flatten, Dense, GlobalAveragePooling2D, Reshape, Conv2D, Dropout, Activation, MaxPooling2D\n",
    "from keras import optimizers\n",
    "from keras.preprocessing.image import ImageDataGenerator\n",
    "from sklearn.metrics import classification_report\n",
    "from sklearn.metrics import confusion_matrix"
   ]
  },
  {
   "cell_type": "markdown",
   "metadata": {
    "colab_type": "text",
    "id": "QpclNqU2gF6C"
   },
   "source": [
    "#### Set some variables to allow reproducibility"
   ]
  },
  {
   "cell_type": "code",
   "execution_count": 2,
   "metadata": {
    "colab": {},
    "colab_type": "code",
    "id": "pw8rn-8NgFQL"
   },
   "outputs": [],
   "source": [
    "os.environ[\"PYTHONHASHSEED\"] = \"0\"\n",
    "# The below is necessary for starting Numpy generated random numbers\n",
    "# in a well-defined initial state.\n",
    "np.random.seed(42)\n",
    "# The below is necessary for starting core Python generated random numbers\n",
    "# in a well-defined state.\n",
    "rn.seed(12345)\n",
    "# The below tf.set_random_seed() will make random number generation\n",
    "# in the TensorFlow backend have a well-defined initial state.\n",
    "# For further details, see:\n",
    "# https://www.tensorflow.org/api_docs/python/tf/set_random_seed\n",
    "tf.set_random_seed(1234)"
   ]
  },
  {
   "cell_type": "markdown",
   "metadata": {
    "colab_type": "text",
    "id": "587xdFE8fvo1"
   },
   "source": [
    "## Download the flowers dataset from kaggle"
   ]
  },
  {
   "cell_type": "markdown",
   "metadata": {
    "colab_type": "text",
    "id": "V6sdcCQTgYg4"
   },
   "source": [
    "### Set kaggle username and key"
   ]
  },
  {
   "cell_type": "code",
   "execution_count": null,
   "metadata": {
    "colab": {},
    "colab_type": "code",
    "id": "Dpy9eyg3gWqy"
   },
   "outputs": [],
   "source": [
    "os.environ[\"KAGGLE_USERNAME\"] = \"{username}\"\n",
    "os.environ[\"KAGGLE_KEY\"] = \"{key}\""
   ]
  },
  {
   "cell_type": "markdown",
   "metadata": {
    "colab_type": "text",
    "id": "rrjm6-dmhHia"
   },
   "source": [
    "### Download using the Kaggle API\n",
    "\n",
    "https://www.kaggle.com/docs/api"
   ]
  },
  {
   "cell_type": "code",
   "execution_count": null,
   "metadata": {
    "colab": {
     "base_uri": "https://localhost:8080/",
     "height": 1000
    },
    "colab_type": "code",
    "id": "ZdhMCqe7hMO4",
    "outputId": "59d7bd08-7670-4a08-c036-0f3fa3aabf6d"
   },
   "outputs": [],
   "source": [
    "!kaggle datasets download -d paultimothymooney/chest-xray-pneumonia\n",
    "!unzip chest-xray-pneumonia.zip\n",
    "!rm chest-xray-pneumonia.zip\n",
    "!rm -rf chest_xray/__MACOSX/\n",
    "!rm -rf chest_xray/chest_xray/"
   ]
  },
  {
   "cell_type": "markdown",
   "metadata": {
    "colab_type": "text",
    "id": "HG73FcgThSon"
   },
   "source": [
    "## Organize data and split into train, validation and test"
   ]
  },
  {
   "cell_type": "code",
   "execution_count": null,
   "metadata": {
    "colab": {
     "base_uri": "https://localhost:8080/",
     "height": 622
    },
    "colab_type": "code",
    "id": "4LP0V_FUi6qO",
    "outputId": "1149a4b7-e91f-4184-cc05-7a337701e0e1"
   },
   "outputs": [
    {
     "name": "stdout",
     "output_type": "stream",
     "text": [
      "-----------------------\n",
      "Set: train\n",
      "chest_xray/train\n",
      "[['NORMAL' 0 list([])]\n",
      " ['PNEUMONIA' 1 list([])]]\n",
      "\n",
      "Total images per class...\n",
      "NORMAL : 1341\n",
      "PNEUMONIA : 3875\n",
      "\n",
      "Total of images: 5216\n",
      "images: 5216\n",
      "-----------------------\n",
      "Set: val\n",
      "chest_xray/val\n",
      "[['NORMAL' 0 list([])]\n",
      " ['PNEUMONIA' 1 list([])]]\n",
      "\n",
      "Total images per class...\n",
      "NORMAL : 8\n",
      "PNEUMONIA : 8\n",
      "\n",
      "Total of images: 16\n",
      "images: 16\n",
      "-----------------------\n",
      "Set: test\n",
      "chest_xray/test\n",
      "[['NORMAL' 0 list([])]\n",
      " ['PNEUMONIA' 1 list([])]]\n",
      "\n",
      "Total images per class...\n",
      "NORMAL : 234\n",
      "PNEUMONIA : 390\n",
      "\n",
      "Total of images: 624\n",
      "images: 624\n"
     ]
    }
   ],
   "source": [
    "dataset_path = 'chest_xray'\n",
    "for dset in ['train','val','test']:\n",
    "    print('-----------------------')\n",
    "    print('Set:', dset)\n",
    "    set_path = os.path.join(dataset_path, dset)\n",
    "    print(set_path)\n",
    "\n",
    "    for (dirpath, dirnames, filenames) in walk(set_path):\n",
    "        if (len(dirnames) > 0):\n",
    "            folders_with_labels = np.empty([len(dirnames), 3], dtype=object)\n",
    "            i = 0\n",
    "            for dir_name in sorted(dirnames, key=str.lower):\n",
    "                folders_with_labels[i][0] = dir_name\n",
    "                folders_with_labels[i][1] = i\n",
    "                folders_with_labels[i][2] = []\n",
    "                i += 1\n",
    "    print(folders_with_labels)\n",
    "\n",
    "    # Fill image paths in the array from images in the folders\n",
    "    for path, label, imgs in folders_with_labels:\n",
    "        for (dirpath, dirnames, filenames) in walk(os.path.join(set_path, path)):\n",
    "            for file_name in filenames:\n",
    "                imgs.append('{}/{}/{},{}'.format(dset, path, file_name, label))\n",
    "\n",
    "    print('')\n",
    "    print(\"Total images per class...\")\n",
    "    total = 0\n",
    "    for path, label, imgs in folders_with_labels:\n",
    "        print(path, \":\", len(imgs))\n",
    "        total += len(imgs)\n",
    "    print('')\n",
    "    print('Total of images:', total)\n",
    "\n",
    "    all_imgs = []\n",
    "    for path, label, imgs in folders_with_labels:\n",
    "        all_imgs.extend(imgs)\n",
    "    print('images:', len(all_imgs))\n",
    "\n",
    "    shuffle(all_imgs)\n",
    "\n",
    "    with open(os.path.join(dataset_path, '{}.txt'.format(dset)), 'w') as f:  \n",
    "        f.writelines(\"%s\\n\" % item for item in all_imgs)"
   ]
  },
  {
   "cell_type": "markdown",
   "metadata": {
    "colab_type": "text",
    "id": "jobAtNs72026"
   },
   "source": [
    "## 1 - Fine-tuning VGG16 with 2 FC layers"
   ]
  },
  {
   "cell_type": "markdown",
   "metadata": {
    "colab_type": "text",
    "id": "X4C29RyK-mI5"
   },
   "source": [
    "### Set initial parameters, functions and generators"
   ]
  },
  {
   "cell_type": "markdown",
   "metadata": {
    "colab_type": "text",
    "id": "L5bL1hui26lR"
   },
   "source": [
    "Set parameters for our model and training"
   ]
  },
  {
   "cell_type": "code",
   "execution_count": 3,
   "metadata": {
    "colab": {},
    "colab_type": "code",
    "id": "4zg8Bo7Z6hHN"
   },
   "outputs": [],
   "source": [
    "dataset_path = 'chest_xray'\n",
    "width = 224\n",
    "height = 224\n",
    "input_shape = (width, height, 3)\n",
    "batch_size = 10\n",
    "verbose = 1\n",
    "classes_dict = {\n",
    "    0: 'NORMAL',\n",
    "    1: 'PNEUMONIA'\n",
    "}"
   ]
  },
  {
   "cell_type": "markdown",
   "metadata": {
    "colab_type": "text",
    "id": "8Ffdk9ke2_RM"
   },
   "source": [
    "Here we define 3 functions:\n",
    "\n",
    "\n",
    "*   read_training_file() : Read the paths to images and labels for the dataset using each file (train, validation and test).\n",
    "*   preprocess_image() : Preprocess the images in batch, set the size, the type and put in the TF format (scale pixels between -1 and 1).\n",
    "*   data_generator() : Returns a generator that reads the images in batch and call the preprocess function, to be used in the training process with the fit_generator function.\n",
    "\n"
   ]
  },
  {
   "cell_type": "code",
   "execution_count": 4,
   "metadata": {
    "colab": {},
    "colab_type": "code",
    "id": "0tiD5AjA6lt4"
   },
   "outputs": [],
   "source": [
    "def read_training_file(path, separator=' '):\n",
    "    images = []\n",
    "    labels = []\n",
    "    with open(path, 'r') as f:\n",
    "        for i in tqdm(f.readlines()):\n",
    "            img_name, cls = i.strip().split(separator)\n",
    "            cls = int(cls)\n",
    "            images.append(img_name)\n",
    "            labels.append(cls)\n",
    "    return images, labels\n",
    "\n",
    "def preprocess_image(images, images_path, width, height):\n",
    "    pp_images = []\n",
    "\n",
    "    for image in images:\n",
    "        img = cv2.imread(os.path.join(images_path, image))\n",
    "        if img.shape[0] != 224 or img.shape[1] != 224:\n",
    "            img = cv2.resize(img, (width, height), interpolation=cv2.INTER_NEAREST)\n",
    "        img = np.asarray(img, 'float32')\n",
    "        img = preprocess_input(img, mode='tf')\n",
    "        pp_images.append(img)\n",
    "\n",
    "    return np.asarray(pp_images)\n",
    "\n",
    "def data_generator(images, labels, batch_size, images_path, width, height):\n",
    "    batch_start = 0\n",
    "    while batch_start < len(images):\n",
    "        batch_end = min(batch_start + batch_size, len(images))\n",
    "        y_batch = labels[batch_start : batch_end]\n",
    "        x_batch = preprocess_image(images[batch_start : batch_end],\n",
    "                                   images_path,\n",
    "                                   width,\n",
    "                                   height)\n",
    "        batch_start += batch_size\n",
    "        if batch_start >= len(images):\n",
    "            batch_start = 0\n",
    "        yield (x_batch, y_batch)"
   ]
  },
  {
   "cell_type": "markdown",
   "metadata": {
    "colab_type": "text",
    "id": "5Cyv-ek55mOX"
   },
   "source": [
    "Read the label files (train, val and test) and set two arrays:\n",
    "\n",
    "1.   paths to images.\n",
    "2.   labels as a binary class matrix, for use with categorical_crossentropy.\n",
    "\n"
   ]
  },
  {
   "cell_type": "code",
   "execution_count": 5,
   "metadata": {
    "colab": {
     "base_uri": "https://localhost:8080/",
     "height": 118
    },
    "colab_type": "code",
    "id": "xB9mzb836n02",
    "outputId": "243f80a0-8c07-49ab-ab25-16c435aa9c52"
   },
   "outputs": [
    {
     "name": "stderr",
     "output_type": "stream",
     "text": [
      "100%|██████████| 5216/5216 [00:00<00:00, 543810.33it/s]\n",
      "100%|██████████| 16/16 [00:00<00:00, 36099.44it/s]\n",
      "100%|██████████| 624/624 [00:00<00:00, 232416.81it/s]"
     ]
    },
    {
     "name": "stdout",
     "output_type": "stream",
     "text": [
      "Train: 5216 documents\n",
      "Validation: 16 documents\n",
      "Test: 624 documents\n"
     ]
    },
    {
     "name": "stderr",
     "output_type": "stream",
     "text": [
      "\n"
     ]
    }
   ],
   "source": [
    "train_path = os.path.join(dataset_path, 'train.txt')\n",
    "val_path = os.path.join(dataset_path, 'val.txt')\n",
    "test_path = os.path.join(dataset_path, 'test.txt')\n",
    "\n",
    "train_images, train_labels = read_training_file(train_path, ',')\n",
    "val_images, val_labels = read_training_file(val_path, ',')\n",
    "test_images, test_labels = read_training_file(test_path, ',')\n",
    "\n",
    "print('Train: {} documents'.format(len(train_images)))\n",
    "print('Validation: {} documents'.format(len(val_images)))\n",
    "print('Test: {} documents'.format(len(test_images)))\n",
    "\n",
    "# train_labels_one_hot = to_categorical(train_labels)\n",
    "# val_labels_one_hot = to_categorical(val_labels)\n",
    "# test_labels_one_hot = to_categorical(test_labels)\n",
    "# print(train_labels_one_hot.shape, val_labels_one_hot.shape, test_labels_one_hot.shape)"
   ]
  },
  {
   "cell_type": "markdown",
   "metadata": {
    "colab_type": "text",
    "id": "n7oJhO-78vvf"
   },
   "source": [
    "Create generators for the training set and validation set."
   ]
  },
  {
   "cell_type": "code",
   "execution_count": 6,
   "metadata": {
    "colab": {},
    "colab_type": "code",
    "id": "bzEODO5n6p3D"
   },
   "outputs": [],
   "source": [
    "# train_gen = data_generator(train_images, train_labels_one_hot, batch_size, dataset_path, width, height)\n",
    "# val_gen = data_generator(val_images, val_labels_one_hot, batch_size, dataset_path, width, height)\n",
    "train_gen = data_generator(train_images, train_labels, batch_size, dataset_path, width, height)\n",
    "val_gen = data_generator(val_images, val_labels, batch_size, dataset_path, width, height)\n",
    "\n",
    "num_batches_per_epoch = int(round(len(train_images) / float(batch_size)))\n",
    "num_batches_per_epoch_val = int(round(len(val_images) / float(batch_size)))"
   ]
  },
  {
   "cell_type": "markdown",
   "metadata": {
    "colab_type": "text",
    "id": "-Fa6Kdia85vT"
   },
   "source": [
    "### Define and compile the model architecture"
   ]
  },
  {
   "cell_type": "code",
   "execution_count": 7,
   "metadata": {
    "colab": {
     "base_uri": "https://localhost:8080/",
     "height": 524
    },
    "colab_type": "code",
    "id": "VHXj0AGp6rwm",
    "outputId": "76bc8b5a-2878-4226-c492-1e4eabb0ba62"
   },
   "outputs": [
    {
     "name": "stdout",
     "output_type": "stream",
     "text": [
      "WARNING:tensorflow:From /home/ribani/virtual-envs/sibgrapi19/lib/python3.6/site-packages/keras/backend/tensorflow_backend.py:66: The name tf.get_default_graph is deprecated. Please use tf.compat.v1.get_default_graph instead.\n",
      "\n",
      "WARNING:tensorflow:From /home/ribani/virtual-envs/sibgrapi19/lib/python3.6/site-packages/keras/backend/tensorflow_backend.py:541: The name tf.placeholder is deprecated. Please use tf.compat.v1.placeholder instead.\n",
      "\n",
      "WARNING:tensorflow:From /home/ribani/virtual-envs/sibgrapi19/lib/python3.6/site-packages/keras/backend/tensorflow_backend.py:4432: The name tf.random_uniform is deprecated. Please use tf.random.uniform instead.\n",
      "\n",
      "WARNING:tensorflow:From /home/ribani/virtual-envs/sibgrapi19/lib/python3.6/site-packages/keras/backend/tensorflow_backend.py:4267: The name tf.nn.max_pool is deprecated. Please use tf.nn.max_pool2d instead.\n",
      "\n",
      "WARNING:tensorflow:From /home/ribani/virtual-envs/sibgrapi19/lib/python3.6/site-packages/keras/backend/tensorflow_backend.py:190: The name tf.get_default_session is deprecated. Please use tf.compat.v1.get_default_session instead.\n",
      "\n",
      "WARNING:tensorflow:From /home/ribani/virtual-envs/sibgrapi19/lib/python3.6/site-packages/keras/backend/tensorflow_backend.py:197: The name tf.ConfigProto is deprecated. Please use tf.compat.v1.ConfigProto instead.\n",
      "\n"
     ]
    }
   ],
   "source": [
    "base_vgg = vgg16.VGG16(include_top=False, weights='imagenet', input_shape=input_shape)\n",
    "\n",
    "x = base_vgg.output\n",
    "x = Flatten(name='flatten')(x)\n",
    "x = Dense(512, activation='relu', name='fc1')(x)\n",
    "x = Dense(512, activation='relu', name='fc2')(x)\n",
    "x = Dense(1, activation='sigmoid', name='predictions')(x)\n",
    "\n",
    "model = Model(inputs=base_vgg.input, outputs=x)"
   ]
  },
  {
   "cell_type": "markdown",
   "metadata": {
    "colab_type": "text",
    "id": "F5hu1_F9avDV"
   },
   "source": [
    "### Set trainable and non-trainable layers\n",
    "\n",
    "Here we are freezing the first 3 blocks of the VGG16 and set the rest of the layers in the model as trainable. The block4 and block5 of convolutions will be fine-tuned and the fully-connected layers will be trained from zero."
   ]
  },
  {
   "cell_type": "code",
   "execution_count": 8,
   "metadata": {
    "colab": {
     "base_uri": "https://localhost:8080/",
     "height": 454
    },
    "colab_type": "code",
    "id": "tXqLNLUNOrhZ",
    "outputId": "4c026b08-db93-4499-dc5d-62a6955ca996"
   },
   "outputs": [
    {
     "name": "stdout",
     "output_type": "stream",
     "text": [
      "Not trainable\n",
      "input_1: <keras.engine.input_layer.InputLayer object at 0x7fd465b887f0>\n",
      "block1_conv1: <keras.layers.convolutional.Conv2D object at 0x7fd465b88630>\n",
      "block1_conv2: <keras.layers.convolutional.Conv2D object at 0x7fd461234358>\n",
      "block1_pool: <keras.layers.pooling.MaxPooling2D object at 0x7fd461234eb8>\n",
      "block2_conv1: <keras.layers.convolutional.Conv2D object at 0x7fd461260828>\n",
      "block2_conv2: <keras.layers.convolutional.Conv2D object at 0x7fd461151198>\n",
      "block2_pool: <keras.layers.pooling.MaxPooling2D object at 0x7fd4611e7a58>\n",
      "block3_conv1: <keras.layers.convolutional.Conv2D object at 0x7fd461202390>\n",
      "block3_conv2: <keras.layers.convolutional.Conv2D object at 0x7fd46121e240>\n",
      "block3_conv3: <keras.layers.convolutional.Conv2D object at 0x7fd4610f1f28>\n",
      "block3_pool: <keras.layers.pooling.MaxPooling2D object at 0x7fd46110ce48>\n",
      "flatten: <keras.layers.core.Flatten object at 0x7fd465b88fd0>\n",
      "\n",
      "Trainable\n",
      "block4_conv1: <keras.layers.convolutional.Conv2D object at 0x7fd4611259b0>\n",
      "block4_conv2: <keras.layers.convolutional.Conv2D object at 0x7fd4610d72e8>\n",
      "block4_conv3: <keras.layers.convolutional.Conv2D object at 0x7fd4610d7be0>\n",
      "block4_pool: <keras.layers.pooling.MaxPooling2D object at 0x7fd461091fd0>\n",
      "block5_conv1: <keras.layers.convolutional.Conv2D object at 0x7fd461091ba8>\n",
      "block5_conv2: <keras.layers.convolutional.Conv2D object at 0x7fd46103f630>\n",
      "block5_conv3: <keras.layers.convolutional.Conv2D object at 0x7fd46105c748>\n",
      "block5_pool: <keras.layers.pooling.MaxPooling2D object at 0x7fd460ff3da0>\n",
      "fc1: <keras.layers.core.Dense object at 0x7fd46100b9e8>\n",
      "fc2: <keras.layers.core.Dense object at 0x7fd460b06dd8>\n",
      "predictions: <keras.layers.core.Dense object at 0x7fd460ae5a90>\n"
     ]
    }
   ],
   "source": [
    "trainable_layers = ['block4', 'block5', 'fc', 'predictions']\n",
    "\n",
    "for layer in model.layers:\n",
    "  if any(_layer in layer.name for _layer in trainable_layers):\n",
    "    layer.trainable = True\n",
    "  else:\n",
    "    layer.trainable = False\n",
    "    \n",
    "print('Not trainable')\n",
    "for layer in model.layers:\n",
    "  if not layer.trainable:\n",
    "    print(layer.name + ': ' + str(layer))\n",
    "\n",
    "print('')\n",
    "print('Trainable')\n",
    "for layer in model.layers:\n",
    "  if layer.trainable:\n",
    "    print(layer.name + ': ' + str(layer))\n"
   ]
  },
  {
   "cell_type": "code",
   "execution_count": 9,
   "metadata": {},
   "outputs": [
    {
     "name": "stdout",
     "output_type": "stream",
     "text": [
      "WARNING:tensorflow:From /home/ribani/virtual-envs/sibgrapi19/lib/python3.6/site-packages/keras/optimizers.py:793: The name tf.train.Optimizer is deprecated. Please use tf.compat.v1.train.Optimizer instead.\n",
      "\n",
      "WARNING:tensorflow:From /home/ribani/virtual-envs/sibgrapi19/lib/python3.6/site-packages/tensorflow/python/ops/nn_impl.py:180: add_dispatch_support.<locals>.wrapper (from tensorflow.python.ops.array_ops) is deprecated and will be removed in a future version.\n",
      "Instructions for updating:\n",
      "Use tf.where in 2.0, which has the same broadcast rule as np.where\n"
     ]
    }
   ],
   "source": [
    "model.compile(optimizer=optimizers.RMSprop(lr=2e-5), loss='binary_crossentropy', metrics=['accuracy'])"
   ]
  },
  {
   "cell_type": "markdown",
   "metadata": {
    "colab_type": "text",
    "id": "JYQLneUm9Md3"
   },
   "source": [
    "### Train the model."
   ]
  },
  {
   "cell_type": "code",
   "execution_count": 10,
   "metadata": {
    "colab": {
     "base_uri": "https://localhost:8080/",
     "height": 877
    },
    "colab_type": "code",
    "id": "7fCUZYj36vcu",
    "outputId": "4080e5a8-35df-4d28-91d4-7b3bb0e1d84f"
   },
   "outputs": [
    {
     "name": "stdout",
     "output_type": "stream",
     "text": [
      "Start training...\n",
      "Epoch 1/20\n",
      "522/522 [==============================] - 105s 201ms/step - loss: 0.1005 - acc: 0.9642 - val_loss: 0.1786 - val_acc: 0.9375\n",
      "Epoch 2/20\n",
      "522/522 [==============================] - 102s 195ms/step - loss: 0.0365 - acc: 0.9900 - val_loss: 0.0031 - val_acc: 1.0000\n",
      "Epoch 3/20\n",
      "522/522 [==============================] - 105s 201ms/step - loss: 0.0233 - acc: 0.9943 - val_loss: 9.0503e-05 - val_acc: 1.0000\n",
      "Epoch 4/20\n",
      "522/522 [==============================] - 105s 201ms/step - loss: 0.0108 - acc: 0.9975 - val_loss: 2.1556e-05 - val_acc: 1.0000\n",
      "Epoch 5/20\n",
      "522/522 [==============================] - 105s 202ms/step - loss: 0.0129 - acc: 0.9973 - val_loss: 0.0013 - val_acc: 1.0000\n",
      "Epoch 6/20\n",
      "522/522 [==============================] - 105s 201ms/step - loss: 0.0137 - acc: 0.9979 - val_loss: 4.1981e-05 - val_acc: 1.0000\n",
      "Epoch 7/20\n",
      "522/522 [==============================] - 106s 203ms/step - loss: 0.0130 - acc: 0.9975 - val_loss: 4.3938e-05 - val_acc: 1.0000\n",
      "Epoch 8/20\n",
      "522/522 [==============================] - 106s 203ms/step - loss: 0.0032 - acc: 0.9990 - val_loss: 1.0960e-07 - val_acc: 1.0000\n",
      "Epoch 9/20\n",
      "522/522 [==============================] - 105s 201ms/step - loss: 0.0063 - acc: 0.9979 - val_loss: 7.2613e-04 - val_acc: 1.0000\n",
      "Epoch 10/20\n",
      "522/522 [==============================] - 103s 198ms/step - loss: 0.0059 - acc: 0.9992 - val_loss: 2.0709e-05 - val_acc: 1.0000\n",
      "Epoch 11/20\n",
      "522/522 [==============================] - 106s 203ms/step - loss: 0.0033 - acc: 0.9990 - val_loss: 6.8040e-07 - val_acc: 1.0000\n",
      "Epoch 12/20\n",
      "522/522 [==============================] - 105s 201ms/step - loss: 0.0019 - acc: 0.9994 - val_loss: 1.0960e-07 - val_acc: 1.0000\n",
      "Epoch 13/20\n",
      "522/522 [==============================] - 105s 201ms/step - loss: 0.0052 - acc: 0.9989 - val_loss: 3.8191 - val_acc: 0.6875\n",
      "Epoch 14/20\n",
      "522/522 [==============================] - 103s 197ms/step - loss: 0.0068 - acc: 0.9989 - val_loss: 1.0960e-07 - val_acc: 1.0000\n",
      "Epoch 15/20\n",
      "522/522 [==============================] - 104s 200ms/step - loss: 0.0099 - acc: 0.9985 - val_loss: 1.0960e-07 - val_acc: 1.0000\n",
      "Epoch 16/20\n",
      "522/522 [==============================] - 105s 202ms/step - loss: 0.0049 - acc: 0.9994 - val_loss: 1.0960e-07 - val_acc: 1.0000\n",
      "Epoch 17/20\n",
      "522/522 [==============================] - 106s 203ms/step - loss: 0.0032 - acc: 0.9994 - val_loss: 1.0960e-07 - val_acc: 1.0000\n",
      "Epoch 18/20\n",
      "522/522 [==============================] - 103s 198ms/step - loss: 0.0035 - acc: 0.9996 - val_loss: 1.0960e-07 - val_acc: 1.0000\n",
      "Epoch 19/20\n",
      "522/522 [==============================] - 105s 200ms/step - loss: 1.1448e-07 - acc: 1.0000 - val_loss: 1.0960e-07 - val_acc: 1.0000\n",
      "Epoch 20/20\n",
      "522/522 [==============================] - 105s 200ms/step - loss: 1.1432e-07 - acc: 1.0000 - val_loss: 1.0960e-07 - val_acc: 1.0000\n",
      "Model trained.\n"
     ]
    }
   ],
   "source": [
    "num_epochs = 20\n",
    "\n",
    "print('Start training...')\n",
    "history = model.fit_generator(train_gen,\n",
    "                                  steps_per_epoch=num_batches_per_epoch,\n",
    "                                  epochs=num_epochs,\n",
    "                                  verbose=verbose,\n",
    "                                  validation_data=val_gen,\n",
    "                                  validation_steps=num_batches_per_epoch_val)\n",
    "print('Model trained.')"
   ]
  },
  {
   "cell_type": "code",
   "execution_count": 11,
   "metadata": {},
   "outputs": [
    {
     "name": "stdout",
     "output_type": "stream",
     "text": [
      "Model saved.\n"
     ]
    }
   ],
   "source": [
    "model.save('7_vgg16_fine_tuning_model1.h5')\n",
    "print('Model saved.')"
   ]
  },
  {
   "cell_type": "markdown",
   "metadata": {
    "colab_type": "text",
    "id": "qsM0ndgq9PCx"
   },
   "source": [
    "### Plot training metrics \n",
    "\n",
    "Plot accuracy and loss for the training and validation sets."
   ]
  },
  {
   "cell_type": "code",
   "execution_count": 12,
   "metadata": {
    "colab": {
     "base_uri": "https://localhost:8080/",
     "height": 918
    },
    "colab_type": "code",
    "id": "1nHlYXGck3uk",
    "outputId": "32e3c08a-b887-4ca5-d867-31c806031e1d"
   },
   "outputs": [
    {
     "data": {
      "text/plain": [
       "<matplotlib.legend.Legend at 0x7fd45bfba748>"
      ]
     },
     "execution_count": 12,
     "metadata": {},
     "output_type": "execute_result"
    },
    {
     "data": {
      "image/png": "[encoded data removed]",
      "text/plain": [
       "<Figure size 720x504 with 1 Axes>"
      ]
     },
     "metadata": {},
     "output_type": "display_data"
    },
    {
     "data": {
      "image/png": "[encoded data removed]",
      "text/plain": [
       "<Figure size 720x504 with 1 Axes>"
      ]
     },
     "metadata": {},
     "output_type": "display_data"
    }
   ],
   "source": [
    "sns.set(font_scale=1.5)\n",
    "plt.figure(figsize=(10, 7))\n",
    "plt.title('Accuracy')\n",
    "plt.ylim((0.0, 1.0))\n",
    "plt.plot(history.history['acc'])\n",
    "plt.plot(history.history['val_acc'])\n",
    "plt.legend(['Train', 'Val'], loc='upper left')\n",
    "\n",
    "sns.set(font_scale=1.5)\n",
    "plt.figure(figsize=(10, 7))\n",
    "plt.title('Loss')\n",
    "plt.plot(history.history['loss'])\n",
    "plt.plot(history.history['val_loss'])\n",
    "plt.ylim((0.0, 3.0))\n",
    "plt.legend(['Train', 'Val'], loc='upper left')"
   ]
  },
  {
   "cell_type": "markdown",
   "metadata": {
    "colab_type": "text",
    "id": "3sDi9-aK9fW7"
   },
   "source": [
    "### Evaluate the trained model with the test set."
   ]
  },
  {
   "cell_type": "code",
   "execution_count": 13,
   "metadata": {
    "colab": {
     "base_uri": "https://localhost:8080/",
     "height": 84
    },
    "colab_type": "code",
    "id": "GHak2zX4l-9D",
    "outputId": "f844d068-a753-4806-85b7-21c175205862"
   },
   "outputs": [
    {
     "name": "stdout",
     "output_type": "stream",
     "text": [
      "Evaluating trained model...\n",
      "Finished mobilenet.evaluate_generator\n",
      "['loss', 'acc']\n",
      "[3.2722972354850643, 0.7774193483975625]\n"
     ]
    }
   ],
   "source": [
    "num_batches_per_epoch_test = int(round(len(test_images) / float(batch_size)))\n",
    "\n",
    "print('Evaluating trained model...')\n",
    "result = model.evaluate_generator(generator=data_generator(test_images,\n",
    "                                                               test_labels,\n",
    "                                                               batch_size,\n",
    "                                                               dataset_path, width, height),\n",
    "                                      steps=num_batches_per_epoch_test)\n",
    "\n",
    "print(\"Finished model.evaluate_generator\")\n",
    "print(model.metrics_names)\n",
    "print(result)"
   ]
  },
  {
   "cell_type": "markdown",
   "metadata": {
    "colab_type": "text",
    "id": "9zrvbGTEtp_n"
   },
   "source": [
    "## 2 - Fine-tuning VGG16 with 2 FC layers + Regularization"
   ]
  },
  {
   "cell_type": "markdown",
   "metadata": {
    "colab_type": "text",
    "id": "zx0O7j85ubOO"
   },
   "source": [
    "### Define and compile the model architecture"
   ]
  },
  {
   "cell_type": "code",
   "execution_count": 17,
   "metadata": {
    "colab": {
     "base_uri": "https://localhost:8080/",
     "height": 121
    },
    "colab_type": "code",
    "id": "EcpOAaNtrle4",
    "outputId": "bf30c015-fb20-4dcc-8e18-52a494e3caca"
   },
   "outputs": [],
   "source": [
    "base_vgg = vgg16.VGG16(include_top=False, weights='imagenet', input_shape=input_shape)\n",
    "\n",
    "x = base_vgg.output\n",
    "x = Flatten(name='flatten')(x)\n",
    "x = Dense(512, activation='relu', name='fc1')(x)\n",
    "x = Dropout(0.3)(x)\n",
    "x = Dense(512, activation='relu', name='fc2')(x)\n",
    "x = Dropout(0.3)(x)\n",
    "x = Dense(1, activation='sigmoid', name='predictions')(x)\n",
    "\n",
    "model = Model(inputs=base_vgg.input, outputs=x)"
   ]
  },
  {
   "cell_type": "markdown",
   "metadata": {
    "colab_type": "text",
    "id": "BNnDI62La9iq"
   },
   "source": [
    "### Set trainable and non-trainable layers\n",
    "\n",
    "Here we are freezing the first 3 blocks of the VGG16 and set the rest of the layers in the model as trainable. The block4 and block5 of convolutions will be fine-tuned and the fully-connected layers will be trained from zero."
   ]
  },
  {
   "cell_type": "code",
   "execution_count": 18,
   "metadata": {
    "colab": {
     "base_uri": "https://localhost:8080/",
     "height": 487
    },
    "colab_type": "code",
    "id": "YSWeRqzba6PY",
    "outputId": "db788af1-1ecc-4eab-fa36-7f734f696423"
   },
   "outputs": [
    {
     "name": "stdout",
     "output_type": "stream",
     "text": [
      "Not trainable\n",
      "input_3: <keras.engine.input_layer.InputLayer object at 0x7fd3e6d03198>\n",
      "block1_conv1: <keras.layers.convolutional.Conv2D object at 0x7fd3e6d17ac8>\n",
      "block1_conv2: <keras.layers.convolutional.Conv2D object at 0x7fd3e6d2c0f0>\n",
      "block1_pool: <keras.layers.pooling.MaxPooling2D object at 0x7fd3e6cc02b0>\n",
      "block2_conv1: <keras.layers.convolutional.Conv2D object at 0x7fd3e6cd5630>\n",
      "block2_conv2: <keras.layers.convolutional.Conv2D object at 0x7fd3e7f272b0>\n",
      "block2_pool: <keras.layers.pooling.MaxPooling2D object at 0x7fd3e7f27ba8>\n",
      "block3_conv1: <keras.layers.convolutional.Conv2D object at 0x7fd3e7ec14e0>\n",
      "block3_conv2: <keras.layers.convolutional.Conv2D object at 0x7fd3e7ee0f60>\n",
      "block3_conv3: <keras.layers.convolutional.Conv2D object at 0x7fd3e7ef39b0>\n",
      "block3_pool: <keras.layers.pooling.MaxPooling2D object at 0x7fd3e7eab748>\n",
      "flatten: <keras.layers.core.Flatten object at 0x7fd3e6cc0668>\n",
      "dropout_3: <keras.layers.core.Dropout object at 0x7fd3e7d3ae48>\n",
      "dropout_4: <keras.layers.core.Dropout object at 0x7fd3e7cd0be0>\n",
      "\n",
      "Trainable\n",
      "block4_conv1: <keras.layers.convolutional.Conv2D object at 0x7fd3e7eabb00>\n",
      "block4_conv2: <keras.layers.convolutional.Conv2D object at 0x7fd3e7e5c438>\n",
      "block4_conv3: <keras.layers.convolutional.Conv2D object at 0x7fd3e7e5cd30>\n",
      "block4_pool: <keras.layers.pooling.MaxPooling2D object at 0x7fd3e7e13d30>\n",
      "block5_conv1: <keras.layers.convolutional.Conv2D object at 0x7fd3e7e13cf8>\n",
      "block5_conv2: <keras.layers.convolutional.Conv2D object at 0x7fd3e7dc67b8>\n",
      "block5_conv3: <keras.layers.convolutional.Conv2D object at 0x7fd3e7de3c88>\n",
      "block5_pool: <keras.layers.pooling.MaxPooling2D object at 0x7fd3e7df8fd0>\n",
      "fc1: <keras.layers.core.Dense object at 0x7fd3e6d17160>\n",
      "fc2: <keras.layers.core.Dense object at 0x7fd3e7cd0cf8>\n",
      "predictions: <keras.layers.core.Dense object at 0x7fd3e7c86898>\n"
     ]
    }
   ],
   "source": [
    "trainable_layers = ['block4', 'block5', 'fc', 'predictions']\n",
    "\n",
    "for layer in model.layers:\n",
    "  if any(_layer in layer.name for _layer in trainable_layers):\n",
    "    layer.trainable = True\n",
    "  else:\n",
    "    layer.trainable = False\n",
    "    \n",
    "print('Not trainable')\n",
    "for layer in model.layers:\n",
    "  if not layer.trainable:\n",
    "    print(layer.name + ': ' + str(layer))\n",
    "\n",
    "print('')\n",
    "print('Trainable')\n",
    "for layer in model.layers:\n",
    "  if layer.trainable:\n",
    "    print(layer.name + ': ' + str(layer))\n"
   ]
  },
  {
   "cell_type": "code",
   "execution_count": 19,
   "metadata": {},
   "outputs": [],
   "source": [
    "model.compile(optimizer=optimizers.RMSprop(lr=2e-5), loss='binary_crossentropy', metrics=['accuracy'])"
   ]
  },
  {
   "cell_type": "markdown",
   "metadata": {
    "colab_type": "text",
    "id": "NqxgylBtueM3"
   },
   "source": [
    "### Train the model."
   ]
  },
  {
   "cell_type": "code",
   "execution_count": 20,
   "metadata": {
    "colab": {
     "base_uri": "https://localhost:8080/",
     "height": 810
    },
    "colab_type": "code",
    "id": "Ndpj3u1FyR3M",
    "outputId": "ab93941c-f28f-49de-c7d0-62da07e96fbf"
   },
   "outputs": [
    {
     "name": "stdout",
     "output_type": "stream",
     "text": [
      "Start training...\n",
      "Epoch 1/20\n",
      "522/522 [==============================] - 106s 204ms/step - loss: 0.1281 - acc: 0.9550 - val_loss: 0.0602 - val_acc: 1.0000\n",
      "Epoch 2/20\n",
      "522/522 [==============================] - 106s 203ms/step - loss: 0.0485 - acc: 0.9851 - val_loss: 0.0069 - val_acc: 1.0000\n",
      "Epoch 3/20\n",
      "522/522 [==============================] - 105s 202ms/step - loss: 0.0213 - acc: 0.9933 - val_loss: 7.6543e-06 - val_acc: 1.0000\n",
      "Epoch 4/20\n",
      "522/522 [==============================] - 102s 196ms/step - loss: 0.0221 - acc: 0.9944 - val_loss: 2.0556e-04 - val_acc: 1.0000\n",
      "Epoch 5/20\n",
      "522/522 [==============================] - 104s 198ms/step - loss: 0.0125 - acc: 0.9960 - val_loss: 1.0213 - val_acc: 0.8750\n",
      "Epoch 6/20\n",
      "522/522 [==============================] - 102s 196ms/step - loss: 0.0113 - acc: 0.9969 - val_loss: 0.1328 - val_acc: 0.9375\n",
      "Epoch 7/20\n",
      "522/522 [==============================] - 104s 199ms/step - loss: 0.0079 - acc: 0.9981 - val_loss: 0.2646 - val_acc: 0.9375\n",
      "Epoch 8/20\n",
      "522/522 [==============================] - 103s 198ms/step - loss: 0.0119 - acc: 0.9981 - val_loss: 1.7827e-04 - val_acc: 1.0000\n",
      "Epoch 9/20\n",
      "522/522 [==============================] - 105s 202ms/step - loss: 0.0025 - acc: 0.9994 - val_loss: 0.3509 - val_acc: 0.9375\n",
      "Epoch 10/20\n",
      "522/522 [==============================] - 105s 202ms/step - loss: 0.0078 - acc: 0.9987 - val_loss: 1.2869 - val_acc: 0.8750\n",
      "Epoch 11/20\n",
      "522/522 [==============================] - 105s 201ms/step - loss: 0.0081 - acc: 0.9985 - val_loss: 1.0960e-07 - val_acc: 1.0000\n",
      "Epoch 12/20\n",
      "522/522 [==============================] - 105s 202ms/step - loss: 0.0090 - acc: 0.9989 - val_loss: 1.2198e-07 - val_acc: 1.0000\n",
      "Epoch 13/20\n",
      "522/522 [==============================] - 104s 199ms/step - loss: 0.0021 - acc: 0.9994 - val_loss: 1.2943e-07 - val_acc: 1.0000\n",
      "Epoch 14/20\n",
      "522/522 [==============================] - 107s 205ms/step - loss: 6.6935e-04 - acc: 0.9998 - val_loss: 1.0960e-07 - val_acc: 1.0000\n",
      "Epoch 15/20\n",
      "522/522 [==============================] - 104s 200ms/step - loss: 0.0058 - acc: 0.9990 - val_loss: 1.9931 - val_acc: 0.8750\n",
      "Epoch 16/20\n",
      "522/522 [==============================] - 105s 202ms/step - loss: 0.0035 - acc: 0.9994 - val_loss: 1.0960e-07 - val_acc: 1.0000\n",
      "Epoch 17/20\n",
      "522/522 [==============================] - 106s 203ms/step - loss: 1.6439e-04 - acc: 0.9998 - val_loss: 3.0848e-05 - val_acc: 1.0000\n",
      "Epoch 18/20\n",
      "522/522 [==============================] - 107s 204ms/step - loss: 0.0057 - acc: 0.9992 - val_loss: 1.0960e-07 - val_acc: 1.0000\n",
      "Epoch 19/20\n",
      "522/522 [==============================] - 106s 203ms/step - loss: 0.0039 - acc: 0.9992 - val_loss: 1.0960e-07 - val_acc: 1.0000\n",
      "Epoch 20/20\n",
      "522/522 [==============================] - 106s 202ms/step - loss: 0.0017 - acc: 0.9994 - val_loss: 1.0960e-07 - val_acc: 1.0000\n",
      "Model trained.\n"
     ]
    }
   ],
   "source": [
    "num_epochs = 20\n",
    "\n",
    "print('Start training...')\n",
    "history = model.fit_generator(train_gen,\n",
    "                                  steps_per_epoch=num_batches_per_epoch,\n",
    "                                  epochs=num_epochs,\n",
    "                                  verbose=verbose,\n",
    "                                  validation_data=val_gen,\n",
    "                                  validation_steps=num_batches_per_epoch_val)\n",
    "print('Model trained.')"
   ]
  },
  {
   "cell_type": "code",
   "execution_count": 21,
   "metadata": {},
   "outputs": [
    {
     "name": "stdout",
     "output_type": "stream",
     "text": [
      "Model saved.\n"
     ]
    }
   ],
   "source": [
    "model.save('7_vgg16_fine_tuning_model2.h5')\n",
    "print('Model saved.')"
   ]
  },
  {
   "cell_type": "markdown",
   "metadata": {
    "colab_type": "text",
    "id": "v2JTFbfKujup"
   },
   "source": [
    "### Plot training metrics \n",
    "\n",
    "Plot accuracy and loss for the training and validation sets."
   ]
  },
  {
   "cell_type": "code",
   "execution_count": 22,
   "metadata": {
    "colab": {
     "base_uri": "https://localhost:8080/",
     "height": 918
    },
    "colab_type": "code",
    "id": "IkoDknfsy2_H",
    "outputId": "cff81c26-8208-4899-9afe-d2e6581446c0"
   },
   "outputs": [
    {
     "data": {
      "text/plain": [
       "<matplotlib.legend.Legend at 0x7fd3e60daeb8>"
      ]
     },
     "execution_count": 22,
     "metadata": {},
     "output_type": "execute_result"
    },
    {
     "data": {
      "image/png": "[encoded data removed]",
      "text/plain": [
       "<Figure size 720x504 with 1 Axes>"
      ]
     },
     "metadata": {},
     "output_type": "display_data"
    },
    {
     "data": {
      "image/png": "[encoded data removed]",
      "text/plain": [
       "<Figure size 720x504 with 1 Axes>"
      ]
     },
     "metadata": {},
     "output_type": "display_data"
    }
   ],
   "source": [
    "sns.set(font_scale=1.5)\n",
    "plt.figure(figsize=(10, 7))\n",
    "plt.title('Accuracy')\n",
    "plt.ylim((0.0, 1.0))\n",
    "plt.plot(history.history['acc'])\n",
    "plt.plot(history.history['val_acc'])\n",
    "plt.legend(['Train', 'Val'], loc='upper left')\n",
    "\n",
    "sns.set(font_scale=1.5)\n",
    "plt.figure(figsize=(10, 7))\n",
    "plt.title('Loss')\n",
    "plt.plot(history.history['loss'])\n",
    "plt.plot(history.history['val_loss'])\n",
    "plt.ylim((0.0, 3.0))\n",
    "plt.legend(['Train', 'Val'], loc='upper left')"
   ]
  },
  {
   "cell_type": "markdown",
   "metadata": {
    "colab_type": "text",
    "id": "bewF73kUuo-n"
   },
   "source": [
    "### Evaluate the trained model with the test set."
   ]
  },
  {
   "cell_type": "code",
   "execution_count": 23,
   "metadata": {
    "colab": {
     "base_uri": "https://localhost:8080/",
     "height": 84
    },
    "colab_type": "code",
    "id": "VA4EPdUDy34j",
    "outputId": "52781f6b-406e-405a-a161-4fefa8180966"
   },
   "outputs": [
    {
     "name": "stdout",
     "output_type": "stream",
     "text": [
      "Evaluating trained model...\n",
      "Finished model.evaluate_generator\n",
      "['loss', 'acc']\n",
      "[3.1561673658665805, 0.7903225767997003]\n"
     ]
    }
   ],
   "source": [
    "num_batches_per_epoch_test = int(round(len(test_images) / float(batch_size)))\n",
    "\n",
    "print('Evaluating trained model...')\n",
    "result = model.evaluate_generator(generator=data_generator(test_images,\n",
    "                                                               test_labels,\n",
    "                                                               batch_size,\n",
    "                                                               dataset_path, width, height),\n",
    "                                      steps=num_batches_per_epoch_test)\n",
    "\n",
    "print(\"Finished model.evaluate_generator\")\n",
    "print(model.metrics_names)\n",
    "print(result)"
   ]
  },
  {
   "cell_type": "markdown",
   "metadata": {
    "colab_type": "text",
    "id": "Lhq1rYayu8Yx"
   },
   "source": [
    "## 3 - Fine-tuning VGG16 with 2 FC layers + Regularization + Augmentation"
   ]
  },
  {
   "cell_type": "markdown",
   "metadata": {
    "colab_type": "text",
    "id": "iQxRL38XnIcx"
   },
   "source": [
    "### Create augmentation generator\n",
    "\n",
    "Here we use the ImageDataGenerator from Keras to apply different types of augmentation."
   ]
  },
  {
   "cell_type": "code",
   "execution_count": 7,
   "metadata": {
    "colab": {},
    "colab_type": "code",
    "id": "79hgSqqyvDuD"
   },
   "outputs": [],
   "source": [
    "image_gen = ImageDataGenerator(zoom_range=0.3,\n",
    "                               #rotation_range=50,\n",
    "                               #width_shift_range=0.2,\n",
    "                               #height_shift_range=0.2,\n",
    "                               #shear_range=0.01,\n",
    "                               horizontal_flip=True,\n",
    "                               fill_mode='nearest')"
   ]
  },
  {
   "cell_type": "code",
   "execution_count": 8,
   "metadata": {
    "colab": {},
    "colab_type": "code",
    "id": "sdaMzbdMvRHn"
   },
   "outputs": [],
   "source": [
    "def augmentation_generator(in_generator):\n",
    "\n",
    "    for in_x, in_y in in_generator:\n",
    "        g_x = image_gen.flow(in_x, in_y,\n",
    "                             batch_size=in_x.shape[0])\n",
    "        x, y = next(g_x)\n",
    "\n",
    "        yield x, y"
   ]
  },
  {
   "cell_type": "code",
   "execution_count": 9,
   "metadata": {
    "colab": {},
    "colab_type": "code",
    "id": "i_pBTtTFvsJb"
   },
   "outputs": [],
   "source": [
    "train_gen = augmentation_generator(train_gen)\n",
    "val_gen = augmentation_generator(val_gen)"
   ]
  },
  {
   "cell_type": "markdown",
   "metadata": {
    "colab_type": "text",
    "id": "1G2QCE2t9w--"
   },
   "source": [
    "### Define and compile the model architecture"
   ]
  },
  {
   "cell_type": "code",
   "execution_count": 10,
   "metadata": {
    "colab": {},
    "colab_type": "code",
    "id": "QFZ-guN39uKa"
   },
   "outputs": [
    {
     "name": "stdout",
     "output_type": "stream",
     "text": [
      "WARNING:tensorflow:From /home/ribani/virtual-envs/sibgrapi19/lib/python3.6/site-packages/keras/backend/tensorflow_backend.py:66: The name tf.get_default_graph is deprecated. Please use tf.compat.v1.get_default_graph instead.\n",
      "\n",
      "WARNING:tensorflow:From /home/ribani/virtual-envs/sibgrapi19/lib/python3.6/site-packages/keras/backend/tensorflow_backend.py:541: The name tf.placeholder is deprecated. Please use tf.compat.v1.placeholder instead.\n",
      "\n",
      "WARNING:tensorflow:From /home/ribani/virtual-envs/sibgrapi19/lib/python3.6/site-packages/keras/backend/tensorflow_backend.py:4432: The name tf.random_uniform is deprecated. Please use tf.random.uniform instead.\n",
      "\n",
      "WARNING:tensorflow:From /home/ribani/virtual-envs/sibgrapi19/lib/python3.6/site-packages/keras/backend/tensorflow_backend.py:4267: The name tf.nn.max_pool is deprecated. Please use tf.nn.max_pool2d instead.\n",
      "\n",
      "WARNING:tensorflow:From /home/ribani/virtual-envs/sibgrapi19/lib/python3.6/site-packages/keras/backend/tensorflow_backend.py:190: The name tf.get_default_session is deprecated. Please use tf.compat.v1.get_default_session instead.\n",
      "\n",
      "WARNING:tensorflow:From /home/ribani/virtual-envs/sibgrapi19/lib/python3.6/site-packages/keras/backend/tensorflow_backend.py:197: The name tf.ConfigProto is deprecated. Please use tf.compat.v1.ConfigProto instead.\n",
      "\n",
      "WARNING:tensorflow:From /home/ribani/virtual-envs/sibgrapi19/lib/python3.6/site-packages/keras/backend/tensorflow_backend.py:3733: calling dropout (from tensorflow.python.ops.nn_ops) with keep_prob is deprecated and will be removed in a future version.\n",
      "Instructions for updating:\n",
      "Please use `rate` instead of `keep_prob`. Rate should be set to `rate = 1 - keep_prob`.\n"
     ]
    }
   ],
   "source": [
    "base_vgg = vgg16.VGG16(include_top=False, weights='imagenet', input_shape=input_shape)\n",
    "\n",
    "x = base_vgg.output\n",
    "x = Flatten(name='flatten')(x)\n",
    "x = Dense(512, activation='relu', name='fc1')(x)\n",
    "x = Dropout(0.3)(x)\n",
    "x = Dense(512, activation='relu', name='fc2')(x)\n",
    "x = Dropout(0.3)(x)\n",
    "x = Dense(1, activation='sigmoid', name='predictions')(x)\n",
    "\n",
    "model = Model(inputs=base_vgg.input, outputs=x)"
   ]
  },
  {
   "cell_type": "markdown",
   "metadata": {
    "colab_type": "text",
    "id": "nkHNpilRbAog"
   },
   "source": [
    "### Set trainable and non-trainable layers\n",
    "\n",
    "Here we are freezing the first 3 blocks of the VGG16 and set the rest of the layers in the model as trainable. The block4 and block5 of convolutions will be fine-tuned and the fully-connected layers will be trained from zero."
   ]
  },
  {
   "cell_type": "code",
   "execution_count": 11,
   "metadata": {
    "colab": {
     "base_uri": "https://localhost:8080/",
     "height": 487
    },
    "colab_type": "code",
    "id": "Ee1XIpYZa_5o",
    "outputId": "ff17155c-23e3-4528-e28e-61e5f38d87c3"
   },
   "outputs": [
    {
     "name": "stdout",
     "output_type": "stream",
     "text": [
      "Not trainable\n",
      "input_1: <keras.engine.input_layer.InputLayer object at 0x7fceb47866a0>\n",
      "block1_conv1: <keras.layers.convolutional.Conv2D object at 0x7fceb4786748>\n",
      "block1_conv2: <keras.layers.convolutional.Conv2D object at 0x7fceb47869b0>\n",
      "block1_pool: <keras.layers.pooling.MaxPooling2D object at 0x7fceb47b0f98>\n",
      "block2_conv1: <keras.layers.convolutional.Conv2D object at 0x7fceb47b0b00>\n",
      "block2_conv2: <keras.layers.convolutional.Conv2D object at 0x7fceabf39668>\n",
      "block2_pool: <keras.layers.pooling.MaxPooling2D object at 0x7fceabfd79b0>\n",
      "block3_conv1: <keras.layers.convolutional.Conv2D object at 0x7fceabfd7da0>\n",
      "block3_conv2: <keras.layers.convolutional.Conv2D object at 0x7fceabec4438>\n",
      "block3_conv3: <keras.layers.convolutional.Conv2D object at 0x7fceabee1860>\n",
      "block3_pool: <keras.layers.pooling.MaxPooling2D object at 0x7fceabefbac8>\n",
      "flatten: <keras.layers.core.Flatten object at 0x7fceb4786518>\n",
      "dropout_1: <keras.layers.core.Dropout object at 0x7fceabd93710>\n",
      "dropout_2: <keras.layers.core.Dropout object at 0x7fcea6981470>\n",
      "\n",
      "Trainable\n",
      "block4_conv1: <keras.layers.convolutional.Conv2D object at 0x7fceabefbcc0>\n",
      "block4_conv2: <keras.layers.convolutional.Conv2D object at 0x7fceabeab7b8>\n",
      "block4_conv3: <keras.layers.convolutional.Conv2D object at 0x7fceabe49f28>\n",
      "block4_pool: <keras.layers.pooling.MaxPooling2D object at 0x7fceabe60f28>\n",
      "block5_conv1: <keras.layers.convolutional.Conv2D object at 0x7fceabe60d30>\n",
      "block5_conv2: <keras.layers.convolutional.Conv2D object at 0x7fceabe15a58>\n",
      "block5_conv3: <keras.layers.convolutional.Conv2D object at 0x7fceabe2ec88>\n",
      "block5_pool: <keras.layers.pooling.MaxPooling2D object at 0x7fceabde2550>\n",
      "fc1: <keras.layers.core.Dense object at 0x7fceabdfd940>\n",
      "fc2: <keras.layers.core.Dense object at 0x7fcea69815c0>\n",
      "predictions: <keras.layers.core.Dense object at 0x7fcea6994a90>\n"
     ]
    }
   ],
   "source": [
    "trainable_layers = ['block4', 'block5', 'fc', 'predictions']\n",
    "\n",
    "for layer in model.layers:\n",
    "  if any(_layer in layer.name for _layer in trainable_layers):\n",
    "    layer.trainable = True\n",
    "  else:\n",
    "    layer.trainable = False\n",
    "    \n",
    "print('Not trainable')\n",
    "for layer in model.layers:\n",
    "  if not layer.trainable:\n",
    "    print(layer.name + ': ' + str(layer))\n",
    "\n",
    "print('')\n",
    "print('Trainable')\n",
    "for layer in model.layers:\n",
    "  if layer.trainable:\n",
    "    print(layer.name + ': ' + str(layer))\n"
   ]
  },
  {
   "cell_type": "code",
   "execution_count": 12,
   "metadata": {},
   "outputs": [
    {
     "name": "stdout",
     "output_type": "stream",
     "text": [
      "WARNING:tensorflow:From /home/ribani/virtual-envs/sibgrapi19/lib/python3.6/site-packages/keras/optimizers.py:793: The name tf.train.Optimizer is deprecated. Please use tf.compat.v1.train.Optimizer instead.\n",
      "\n",
      "WARNING:tensorflow:From /home/ribani/virtual-envs/sibgrapi19/lib/python3.6/site-packages/tensorflow/python/ops/nn_impl.py:180: add_dispatch_support.<locals>.wrapper (from tensorflow.python.ops.array_ops) is deprecated and will be removed in a future version.\n",
      "Instructions for updating:\n",
      "Use tf.where in 2.0, which has the same broadcast rule as np.where\n"
     ]
    }
   ],
   "source": [
    "model.compile(optimizer=optimizers.RMSprop(lr=1e-5), loss='binary_crossentropy', metrics=['accuracy'])"
   ]
  },
  {
   "cell_type": "markdown",
   "metadata": {
    "colab_type": "text",
    "id": "yl2XqK8lnCMM"
   },
   "source": [
    "### Train the model."
   ]
  },
  {
   "cell_type": "code",
   "execution_count": 13,
   "metadata": {
    "colab": {
     "base_uri": "https://localhost:8080/",
     "height": 625
    },
    "colab_type": "code",
    "id": "SqDqi2Fe32yW",
    "outputId": "337d76fc-92d1-4ca5-9783-ce13e420994c"
   },
   "outputs": [
    {
     "name": "stdout",
     "output_type": "stream",
     "text": [
      "Start training...\n",
      "Epoch 1/20\n",
      "522/522 [==============================] - 175s 335ms/step - loss: 0.1902 - acc: 0.9257 - val_loss: 1.1869 - val_acc: 0.6875\n",
      "Epoch 2/20\n",
      "522/522 [==============================] - 165s 315ms/step - loss: 0.1068 - acc: 0.9615 - val_loss: 0.4499 - val_acc: 0.8125\n",
      "Epoch 3/20\n",
      "522/522 [==============================] - 170s 325ms/step - loss: 0.0925 - acc: 0.9655 - val_loss: 0.6461 - val_acc: 0.8125\n",
      "Epoch 4/20\n",
      "522/522 [==============================] - 170s 325ms/step - loss: 0.0795 - acc: 0.9745 - val_loss: 0.2114 - val_acc: 0.8750\n",
      "Epoch 5/20\n",
      "522/522 [==============================] - 173s 331ms/step - loss: 0.0732 - acc: 0.9736 - val_loss: 0.7625 - val_acc: 0.7500\n",
      "Epoch 6/20\n",
      "522/522 [==============================] - 175s 336ms/step - loss: 0.0704 - acc: 0.9768 - val_loss: 0.6927 - val_acc: 0.8125\n",
      "Epoch 7/20\n",
      "522/522 [==============================] - 173s 332ms/step - loss: 0.0648 - acc: 0.9778 - val_loss: 0.6330 - val_acc: 0.8750\n",
      "Epoch 8/20\n",
      "522/522 [==============================] - 171s 328ms/step - loss: 0.0572 - acc: 0.9820 - val_loss: 0.6416 - val_acc: 0.7500\n",
      "Epoch 9/20\n",
      "522/522 [==============================] - 170s 326ms/step - loss: 0.0576 - acc: 0.9816 - val_loss: 0.7085 - val_acc: 0.8125\n",
      "Epoch 10/20\n",
      "522/522 [==============================] - 173s 332ms/step - loss: 0.0570 - acc: 0.9828 - val_loss: 0.2921 - val_acc: 0.8750\n",
      "Epoch 11/20\n",
      "522/522 [==============================] - 168s 322ms/step - loss: 0.0522 - acc: 0.9839 - val_loss: 0.0073 - val_acc: 1.0000\n",
      "Epoch 12/20\n",
      "522/522 [==============================] - 171s 327ms/step - loss: 0.0489 - acc: 0.9851 - val_loss: 0.0191 - val_acc: 1.0000\n",
      "Epoch 13/20\n",
      "522/522 [==============================] - 172s 330ms/step - loss: 0.0442 - acc: 0.9845 - val_loss: 0.0947 - val_acc: 0.9375\n",
      "Epoch 14/20\n",
      "522/522 [==============================] - 170s 326ms/step - loss: 0.0533 - acc: 0.9847 - val_loss: 0.4373 - val_acc: 0.8125\n",
      "Epoch 15/20\n",
      "522/522 [==============================] - 173s 331ms/step - loss: 0.0539 - acc: 0.9851 - val_loss: 0.0305 - val_acc: 1.0000\n",
      "Epoch 16/20\n",
      "522/522 [==============================] - 173s 332ms/step - loss: 0.0493 - acc: 0.9843 - val_loss: 0.3341 - val_acc: 0.8125\n",
      "Epoch 17/20\n",
      "522/522 [==============================] - 171s 327ms/step - loss: 0.0406 - acc: 0.9891 - val_loss: 0.0046 - val_acc: 1.0000\n",
      "Epoch 18/20\n",
      "522/522 [==============================] - 167s 319ms/step - loss: 0.0505 - acc: 0.9858 - val_loss: 0.0883 - val_acc: 0.9375\n",
      "Epoch 19/20\n",
      "522/522 [==============================] - 176s 337ms/step - loss: 0.0487 - acc: 0.9875 - val_loss: 0.4852 - val_acc: 0.8125\n",
      "Epoch 20/20\n",
      "522/522 [==============================] - 169s 324ms/step - loss: 0.0468 - acc: 0.9870 - val_loss: 0.9285 - val_acc: 0.8750\n",
      "Model trained.\n"
     ]
    }
   ],
   "source": [
    "num_epochs = 20\n",
    "\n",
    "print('Start training...')\n",
    "history = model.fit_generator(train_gen,\n",
    "                                  steps_per_epoch=num_batches_per_epoch,\n",
    "                                  epochs=num_epochs,\n",
    "                                  verbose=verbose,\n",
    "                                  validation_data=val_gen,\n",
    "                                  validation_steps=num_batches_per_epoch_val)\n",
    "print('Model trained.')"
   ]
  },
  {
   "cell_type": "code",
   "execution_count": 14,
   "metadata": {},
   "outputs": [
    {
     "name": "stdout",
     "output_type": "stream",
     "text": [
      "Model saved.\n"
     ]
    }
   ],
   "source": [
    "model.save('7_vgg16_fine_tuning_model3.h5')\n",
    "print('Model saved.')"
   ]
  },
  {
   "cell_type": "markdown",
   "metadata": {
    "colab_type": "text",
    "id": "nnsp2GkZm91E"
   },
   "source": [
    "### Plot training metrics \n",
    "\n",
    "Plot accuracy and loss for the training and validation sets."
   ]
  },
  {
   "cell_type": "code",
   "execution_count": 15,
   "metadata": {
    "colab": {
     "base_uri": "https://localhost:8080/",
     "height": 918
    },
    "colab_type": "code",
    "id": "LnDyr9x374a5",
    "outputId": "ef9de188-db81-4ff8-ca16-6265a183e749"
   },
   "outputs": [
    {
     "data": {
      "text/plain": [
       "<matplotlib.legend.Legend at 0x7fceab5141d0>"
      ]
     },
     "execution_count": 15,
     "metadata": {},
     "output_type": "execute_result"
    },
    {
     "data": {
      "image/png": "[encoded data removed]",
      "text/plain": [
       "<Figure size 720x504 with 1 Axes>"
      ]
     },
     "metadata": {},
     "output_type": "display_data"
    },
    {
     "data": {
      "image/png": "[encoded data removed]",
      "text/plain": [
       "<Figure size 720x504 with 1 Axes>"
      ]
     },
     "metadata": {},
     "output_type": "display_data"
    }
   ],
   "source": [
    "sns.set(font_scale=1.5)\n",
    "plt.figure(figsize=(10, 7))\n",
    "plt.title('Accuracy')\n",
    "plt.ylim((0.0, 1.0))\n",
    "plt.plot(history.history['acc'])\n",
    "plt.plot(history.history['val_acc'])\n",
    "plt.legend(['Train', 'Val'], loc='upper left')\n",
    "\n",
    "sns.set(font_scale=1.5)\n",
    "plt.figure(figsize=(10, 7))\n",
    "plt.title('Loss')\n",
    "plt.plot(history.history['loss'])\n",
    "plt.plot(history.history['val_loss'])\n",
    "plt.ylim((0.0, 3.0))\n",
    "plt.legend(['Train', 'Val'], loc='upper left')"
   ]
  },
  {
   "cell_type": "markdown",
   "metadata": {
    "colab_type": "text",
    "id": "22y-g5SQTnco"
   },
   "source": [
    "### Evaluate the trained model with the test set."
   ]
  },
  {
   "cell_type": "code",
   "execution_count": 16,
   "metadata": {
    "colab": {
     "base_uri": "https://localhost:8080/",
     "height": 84
    },
    "colab_type": "code",
    "id": "RFHUYoLjTonI",
    "outputId": "af1429c7-b1c5-49c0-a6c8-cda3e6f8093d"
   },
   "outputs": [
    {
     "name": "stdout",
     "output_type": "stream",
     "text": [
      "Evaluating trained model...\n",
      "Finished model.evaluate_generator\n",
      "['loss', 'acc']\n",
      "[0.5643994614560979, 0.9274193471477877]\n"
     ]
    }
   ],
   "source": [
    "num_batches_per_epoch_test = int(round(len(test_images) / float(batch_size)))\n",
    "\n",
    "print('Evaluating trained model...')\n",
    "result = model.evaluate_generator(generator=data_generator(test_images,\n",
    "                                                               test_labels,\n",
    "                                                               batch_size,\n",
    "                                                               dataset_path, width, height),\n",
    "                                      steps=num_batches_per_epoch_test)\n",
    "\n",
    "print(\"Finished model.evaluate_generator\")\n",
    "print(model.metrics_names)\n",
    "print(result)"
   ]
  },
  {
   "cell_type": "code",
   "execution_count": null,
   "metadata": {},
   "outputs": [],
   "source": []
  }
 ],
 "metadata": {
  "accelerator": "GPU",
  "colab": {
   "collapsed_sections": [],
   "name": "7_vgg16_fine_tuning_diff_domain.ipynb",
   "provenance": [],
   "toc_visible": true
  },
  "kernelspec": {
   "display_name": "Python 3",
   "language": "python",
   "name": "python3"
  },
  "language_info": {
   "codemirror_mode": {
    "name": "ipython",
    "version": 3
   },
   "file_extension": ".py",
   "mimetype": "text/x-python",
   "name": "python",
   "nbconvert_exporter": "python",
   "pygments_lexer": "ipython3",
   "version": "3.6.7"
  }
 },
 "nbformat": 4,
 "nbformat_minor": 4
}
